{
 "cells": [
  {
   "cell_type": "markdown",
   "metadata": {
    "pycharm": {
     "name": "#%% md\n"
    }
   },
   "source": [
    "# Introduction to Pandas\n",
    "\n",
    "This tutorial is partially based on the [\"Solving real world data science tasks with Python Pandas!\"](https://github.com/KeithGalli/Pandas-Data-Science-Tasks) tutorial, by Keith Galli.\n",
    "\n",
    "The [Sales dataset](https://github.com/KeithGalli/Pandas-Data-Science-Tasks/tree/master/SalesAnalysis/Sales_Data) used in this tutorial comes from the aforementioned Keith's tutorial."
   ]
  },
  {
   "cell_type": "markdown",
   "metadata": {
    "pycharm": {
     "name": "#%% md\n"
    }
   },
   "source": [
    "## Import necessary libraries"
   ]
  },
  {
   "cell_type": "code",
   "execution_count": 1,
   "metadata": {
    "pycharm": {
     "name": "#%%\n"
    },
    "ExecuteTime": {
     "end_time": "2023-12-06T09:49:55.096345Z",
     "start_time": "2023-12-06T09:49:52.597063Z"
    }
   },
   "outputs": [],
   "source": [
    "import pandas as pd\n",
    "import matplotlib.pyplot as plt\n",
    "\n",
    "from pathlib import Path"
   ]
  },
  {
   "cell_type": "markdown",
   "metadata": {
    "pycharm": {
     "name": "#%% md\n"
    }
   },
   "source": [
    "## Load and explore sales data for one month "
   ]
  },
  {
   "cell_type": "markdown",
   "metadata": {
    "pycharm": {
     "name": "#%% md\n"
    }
   },
   "source": [
    "### Load sales data from a csv file\n",
    "\n",
    "The data is stored in the 'sales_data' subdirectory, within the 'data' directory. "
   ]
  },
  {
   "cell_type": "code",
   "execution_count": 2,
   "outputs": [],
   "source": [
    "DATA_DIR = \"data/sales_data\""
   ],
   "metadata": {
    "collapsed": false,
    "pycharm": {
     "name": "#%%\n"
    },
    "ExecuteTime": {
     "end_time": "2023-12-06T09:49:55.096837Z",
     "start_time": "2023-12-06T09:49:54.490170Z"
    }
   }
  },
  {
   "cell_type": "markdown",
   "metadata": {
    "pycharm": {
     "name": "#%% md\n"
    }
   },
   "source": [
    "Load the data from the 'Sales_January_2019' csv file, from the 'sales_data' directory "
   ]
  },
  {
   "cell_type": "code",
   "execution_count": 3,
   "metadata": {
    "pycharm": {
     "name": "#%%\n"
    },
    "ExecuteTime": {
     "end_time": "2023-12-06T09:49:55.096998Z",
     "start_time": "2023-12-06T09:49:54.493022Z"
    }
   },
   "outputs": [],
   "source": [
    "jan_sales = pd.read_csv(Path.cwd() / DATA_DIR / 'Sales_January_2019.csv')"
   ]
  },
  {
   "cell_type": "markdown",
   "metadata": {
    "pycharm": {
     "name": "#%% md\n"
    }
   },
   "source": [
    "### Explore the loaded \n",
    "\n",
    "Let's first see what the data looks like"
   ]
  },
  {
   "cell_type": "code",
   "execution_count": 4,
   "outputs": [
    {
     "data": {
      "text/plain": "  Order ID                   Product Quantity Ordered Price Each  \\\n0   141234                    iPhone                1        700   \n1   141235  Lightning Charging Cable                1      14.95   \n2   141236          Wired Headphones                2      11.99   \n3   141237          27in FHD Monitor                1     149.99   \n4   141238          Wired Headphones                1      11.99   \n\n       Order Date                       Purchase Address  \n0  01/22/19 21:25        944 Walnut St, Boston, MA 02215  \n1  01/28/19 14:15       185 Maple St, Portland, OR 97035  \n2  01/17/19 13:33  538 Adams St, San Francisco, CA 94016  \n3  01/05/19 20:33     738 10th St, Los Angeles, CA 90001  \n4  01/25/19 11:59          387 10th St, Austin, TX 73301  ",
      "text/html": "<div>\n<style scoped>\n    .dataframe tbody tr th:only-of-type {\n        vertical-align: middle;\n    }\n\n    .dataframe tbody tr th {\n        vertical-align: top;\n    }\n\n    .dataframe thead th {\n        text-align: right;\n    }\n</style>\n<table border=\"1\" class=\"dataframe\">\n  <thead>\n    <tr style=\"text-align: right;\">\n      <th></th>\n      <th>Order ID</th>\n      <th>Product</th>\n      <th>Quantity Ordered</th>\n      <th>Price Each</th>\n      <th>Order Date</th>\n      <th>Purchase Address</th>\n    </tr>\n  </thead>\n  <tbody>\n    <tr>\n      <th>0</th>\n      <td>141234</td>\n      <td>iPhone</td>\n      <td>1</td>\n      <td>700</td>\n      <td>01/22/19 21:25</td>\n      <td>944 Walnut St, Boston, MA 02215</td>\n    </tr>\n    <tr>\n      <th>1</th>\n      <td>141235</td>\n      <td>Lightning Charging Cable</td>\n      <td>1</td>\n      <td>14.95</td>\n      <td>01/28/19 14:15</td>\n      <td>185 Maple St, Portland, OR 97035</td>\n    </tr>\n    <tr>\n      <th>2</th>\n      <td>141236</td>\n      <td>Wired Headphones</td>\n      <td>2</td>\n      <td>11.99</td>\n      <td>01/17/19 13:33</td>\n      <td>538 Adams St, San Francisco, CA 94016</td>\n    </tr>\n    <tr>\n      <th>3</th>\n      <td>141237</td>\n      <td>27in FHD Monitor</td>\n      <td>1</td>\n      <td>149.99</td>\n      <td>01/05/19 20:33</td>\n      <td>738 10th St, Los Angeles, CA 90001</td>\n    </tr>\n    <tr>\n      <th>4</th>\n      <td>141238</td>\n      <td>Wired Headphones</td>\n      <td>1</td>\n      <td>11.99</td>\n      <td>01/25/19 11:59</td>\n      <td>387 10th St, Austin, TX 73301</td>\n    </tr>\n  </tbody>\n</table>\n</div>"
     },
     "execution_count": 4,
     "metadata": {},
     "output_type": "execute_result"
    }
   ],
   "source": [
    "jan_sales.head()"
   ],
   "metadata": {
    "collapsed": false,
    "ExecuteTime": {
     "end_time": "2023-12-06T09:49:55.100002Z",
     "start_time": "2023-12-06T09:49:54.514680Z"
    }
   }
  },
  {
   "cell_type": "markdown",
   "metadata": {
    "pycharm": {
     "name": "#%% md\n"
    }
   },
   "source": [
    "First, get the size of the dataframe, that is, the number of rows and columns"
   ]
  },
  {
   "cell_type": "code",
   "execution_count": 5,
   "metadata": {
    "pycharm": {
     "name": "#%%\n"
    },
    "ExecuteTime": {
     "end_time": "2023-12-06T09:49:55.100406Z",
     "start_time": "2023-12-06T09:49:54.521750Z"
    }
   },
   "outputs": [
    {
     "data": {
      "text/plain": "(9723, 6)"
     },
     "execution_count": 5,
     "metadata": {},
     "output_type": "execute_result"
    }
   ],
   "source": [
    "jan_sales.shape"
   ]
  },
  {
   "cell_type": "markdown",
   "metadata": {
    "pycharm": {
     "name": "#%% md\n"
    }
   },
   "source": [
    "Access the columns' names"
   ]
  },
  {
   "cell_type": "code",
   "execution_count": 6,
   "metadata": {
    "pycharm": {
     "name": "#%%\n"
    },
    "ExecuteTime": {
     "end_time": "2023-12-06T09:49:55.100704Z",
     "start_time": "2023-12-06T09:49:54.526317Z"
    }
   },
   "outputs": [
    {
     "data": {
      "text/plain": "['Order ID',\n 'Product',\n 'Quantity Ordered',\n 'Price Each',\n 'Order Date',\n 'Purchase Address']"
     },
     "execution_count": 6,
     "metadata": {},
     "output_type": "execute_result"
    }
   ],
   "source": [
    "jan_sales.columns.to_list()"
   ]
  },
  {
   "cell_type": "markdown",
   "metadata": {
    "pycharm": {
     "name": "#%% md\n"
    }
   },
   "source": [
    "Examine the columns' data types"
   ]
  },
  {
   "cell_type": "code",
   "execution_count": 7,
   "metadata": {
    "pycharm": {
     "name": "#%%\n"
    },
    "ExecuteTime": {
     "end_time": "2023-12-06T09:49:55.100979Z",
     "start_time": "2023-12-06T09:49:54.530001Z"
    }
   },
   "outputs": [
    {
     "data": {
      "text/plain": "Order ID            object\nProduct             object\nQuantity Ordered    object\nPrice Each          object\nOrder Date          object\nPurchase Address    object\ndtype: object"
     },
     "execution_count": 7,
     "metadata": {},
     "output_type": "execute_result"
    }
   ],
   "source": [
    "jan_sales.dtypes"
   ]
  },
  {
   "cell_type": "markdown",
   "metadata": {
    "pycharm": {
     "name": "#%% md\n"
    }
   },
   "source": [
    "A nice overview of pandas' data types can be found, for example, in [this article](https://pbpython.com/pandas_dtypes.html)."
   ]
  },
  {
   "cell_type": "markdown",
   "metadata": {
    "pycharm": {
     "name": "#%% md\n"
    }
   },
   "source": [
    "Get a complete set of information about the data frame"
   ]
  },
  {
   "cell_type": "code",
   "execution_count": 8,
   "metadata": {
    "pycharm": {
     "name": "#%%\n"
    },
    "ExecuteTime": {
     "end_time": "2023-12-06T09:49:55.101692Z",
     "start_time": "2023-12-06T09:49:54.538241Z"
    }
   },
   "outputs": [
    {
     "name": "stdout",
     "output_type": "stream",
     "text": [
      "<class 'pandas.core.frame.DataFrame'>\n",
      "RangeIndex: 9723 entries, 0 to 9722\n",
      "Data columns (total 6 columns):\n",
      " #   Column            Non-Null Count  Dtype \n",
      "---  ------            --------------  ----- \n",
      " 0   Order ID          9697 non-null   object\n",
      " 1   Product           9697 non-null   object\n",
      " 2   Quantity Ordered  9697 non-null   object\n",
      " 3   Price Each        9697 non-null   object\n",
      " 4   Order Date        9697 non-null   object\n",
      " 5   Purchase Address  9697 non-null   object\n",
      "dtypes: object(6)\n",
      "memory usage: 455.9+ KB\n"
     ]
    }
   ],
   "source": [
    "jan_sales.info()"
   ]
  },
  {
   "cell_type": "markdown",
   "metadata": {
    "pycharm": {
     "name": "#%% md\n"
    }
   },
   "source": [
    "### Examine the missing values\n",
    "\n",
    "To do that, we'll use the `isna()` method"
   ]
  },
  {
   "cell_type": "code",
   "execution_count": 9,
   "metadata": {
    "pycharm": {
     "name": "#%%\n"
    },
    "ExecuteTime": {
     "end_time": "2023-12-06T09:49:55.102003Z",
     "start_time": "2023-12-06T09:49:54.541852Z"
    }
   },
   "outputs": [
    {
     "data": {
      "text/plain": "Order ID            26\nProduct             26\nQuantity Ordered    26\nPrice Each          26\nOrder Date          26\nPurchase Address    26\ndtype: int64"
     },
     "execution_count": 9,
     "metadata": {},
     "output_type": "execute_result"
    }
   ],
   "source": [
    "jan_sales.isna().sum()"
   ]
  },
  {
   "cell_type": "markdown",
   "metadata": {
    "pycharm": {
     "name": "#%% md\n"
    }
   },
   "source": [
    "#### Remove rows with all missing values\n",
    "\n",
    "This can be done with the `dropna()` method"
   ]
  },
  {
   "cell_type": "code",
   "execution_count": 10,
   "metadata": {
    "pycharm": {
     "name": "#%%\n"
    },
    "ExecuteTime": {
     "end_time": "2023-12-06T09:49:55.102128Z",
     "start_time": "2023-12-06T09:49:54.549642Z"
    }
   },
   "outputs": [],
   "source": [
    "jan_sales.dropna(how='all', inplace=True)"
   ]
  },
  {
   "cell_type": "code",
   "execution_count": 11,
   "metadata": {
    "pycharm": {
     "name": "#%%\n"
    },
    "ExecuteTime": {
     "end_time": "2023-12-06T09:49:55.102381Z",
     "start_time": "2023-12-06T09:49:54.554703Z"
    }
   },
   "outputs": [
    {
     "data": {
      "text/plain": "0"
     },
     "execution_count": 11,
     "metadata": {},
     "output_type": "execute_result"
    }
   ],
   "source": [
    "jan_sales.isna().sum().sum()"
   ]
  },
  {
   "cell_type": "markdown",
   "metadata": {
    "pycharm": {
     "name": "#%% md\n"
    }
   },
   "source": [
    "### Subset the data frame or select particular rows / columns\n",
    "\n",
    "This can be done in different ways; the recommended practice is to use Dataframe methods `loc` or `iloc`.\n",
    "\n",
    "When doing the selection based on the ordinal number of rows and columns, `iloc` should be used.\n",
    "\n",
    "When the selection is to be based on a condition to be evaluated against rows and / or columns are to be selected based on their names, `loc` should be used. "
   ]
  },
  {
   "cell_type": "markdown",
   "metadata": {
    "pycharm": {
     "name": "#%% md\n"
    }
   },
   "source": [
    "**Example 1**: select first 3 columns and first 6 rows"
   ]
  },
  {
   "cell_type": "code",
   "execution_count": 12,
   "metadata": {
    "pycharm": {
     "name": "#%%\n"
    },
    "ExecuteTime": {
     "end_time": "2023-12-06T09:49:55.102840Z",
     "start_time": "2023-12-06T09:49:54.560455Z"
    }
   },
   "outputs": [
    {
     "data": {
      "text/plain": "  Order ID                   Product Quantity Ordered\n0   141234                    iPhone                1\n1   141235  Lightning Charging Cable                1\n2   141236          Wired Headphones                2\n3   141237          27in FHD Monitor                1\n4   141238          Wired Headphones                1\n5   141239    AAA Batteries (4-pack)                1",
      "text/html": "<div>\n<style scoped>\n    .dataframe tbody tr th:only-of-type {\n        vertical-align: middle;\n    }\n\n    .dataframe tbody tr th {\n        vertical-align: top;\n    }\n\n    .dataframe thead th {\n        text-align: right;\n    }\n</style>\n<table border=\"1\" class=\"dataframe\">\n  <thead>\n    <tr style=\"text-align: right;\">\n      <th></th>\n      <th>Order ID</th>\n      <th>Product</th>\n      <th>Quantity Ordered</th>\n    </tr>\n  </thead>\n  <tbody>\n    <tr>\n      <th>0</th>\n      <td>141234</td>\n      <td>iPhone</td>\n      <td>1</td>\n    </tr>\n    <tr>\n      <th>1</th>\n      <td>141235</td>\n      <td>Lightning Charging Cable</td>\n      <td>1</td>\n    </tr>\n    <tr>\n      <th>2</th>\n      <td>141236</td>\n      <td>Wired Headphones</td>\n      <td>2</td>\n    </tr>\n    <tr>\n      <th>3</th>\n      <td>141237</td>\n      <td>27in FHD Monitor</td>\n      <td>1</td>\n    </tr>\n    <tr>\n      <th>4</th>\n      <td>141238</td>\n      <td>Wired Headphones</td>\n      <td>1</td>\n    </tr>\n    <tr>\n      <th>5</th>\n      <td>141239</td>\n      <td>AAA Batteries (4-pack)</td>\n      <td>1</td>\n    </tr>\n  </tbody>\n</table>\n</div>"
     },
     "execution_count": 12,
     "metadata": {},
     "output_type": "execute_result"
    }
   ],
   "source": [
    "jan_sales.iloc[:6, :3]"
   ]
  },
  {
   "cell_type": "markdown",
   "metadata": {
    "pycharm": {
     "name": "#%% md\n"
    }
   },
   "source": [
    "**Example 2**: select the last 5 rows and 1st, 2nd and 5th column"
   ]
  },
  {
   "cell_type": "code",
   "execution_count": 13,
   "metadata": {
    "pycharm": {
     "name": "#%%\n"
    },
    "ExecuteTime": {
     "end_time": "2023-12-06T09:49:55.103481Z",
     "start_time": "2023-12-06T09:49:54.565975Z"
    }
   },
   "outputs": [
    {
     "data": {
      "text/plain": "     Order ID                 Product      Order Date\n9718   150497            20in Monitor  01/26/19 19:09\n9719   150498        27in FHD Monitor  01/10/19 22:58\n9720   150499         ThinkPad Laptop  01/21/19 14:31\n9721   150500  AAA Batteries (4-pack)  01/15/19 14:21\n9722   150501            Google Phone  01/13/19 16:43",
      "text/html": "<div>\n<style scoped>\n    .dataframe tbody tr th:only-of-type {\n        vertical-align: middle;\n    }\n\n    .dataframe tbody tr th {\n        vertical-align: top;\n    }\n\n    .dataframe thead th {\n        text-align: right;\n    }\n</style>\n<table border=\"1\" class=\"dataframe\">\n  <thead>\n    <tr style=\"text-align: right;\">\n      <th></th>\n      <th>Order ID</th>\n      <th>Product</th>\n      <th>Order Date</th>\n    </tr>\n  </thead>\n  <tbody>\n    <tr>\n      <th>9718</th>\n      <td>150497</td>\n      <td>20in Monitor</td>\n      <td>01/26/19 19:09</td>\n    </tr>\n    <tr>\n      <th>9719</th>\n      <td>150498</td>\n      <td>27in FHD Monitor</td>\n      <td>01/10/19 22:58</td>\n    </tr>\n    <tr>\n      <th>9720</th>\n      <td>150499</td>\n      <td>ThinkPad Laptop</td>\n      <td>01/21/19 14:31</td>\n    </tr>\n    <tr>\n      <th>9721</th>\n      <td>150500</td>\n      <td>AAA Batteries (4-pack)</td>\n      <td>01/15/19 14:21</td>\n    </tr>\n    <tr>\n      <th>9722</th>\n      <td>150501</td>\n      <td>Google Phone</td>\n      <td>01/13/19 16:43</td>\n    </tr>\n  </tbody>\n</table>\n</div>"
     },
     "execution_count": 13,
     "metadata": {},
     "output_type": "execute_result"
    }
   ],
   "source": [
    "jan_sales.iloc[-5:, [0,1,4]]"
   ]
  },
  {
   "cell_type": "markdown",
   "metadata": {
    "pycharm": {
     "name": "#%% md\n"
    }
   },
   "source": [
    "**Example 3**: Select Order ID, Order Date, and Purchase Address for orders coming from Boston\n",
    "\n",
    "Note: we can use `str` to get the string value of a pandas Series (the 'Purchase Address' column, in this case), so that we can call any string method on it."
   ]
  },
  {
   "cell_type": "code",
   "execution_count": 14,
   "metadata": {
    "pycharm": {
     "name": "#%%\n"
    },
    "ExecuteTime": {
     "end_time": "2023-12-06T09:49:55.104154Z",
     "start_time": "2023-12-06T09:49:54.575693Z"
    }
   },
   "outputs": [
    {
     "data": {
      "text/plain": "     Order ID      Order Date                  Purchase Address\n0      141234  01/22/19 21:25   944 Walnut St, Boston, MA 02215\n17     141251  01/24/19 08:13   414 Walnut St, Boston, MA 02215\n29     141263  01/11/19 23:33   640 Spruce St, Boston, MA 02215\n31     141265  01/01/19 16:52    853 Ridge St, Boston, MA 02215\n37     141271  01/30/19 10:51      90 13th St, Boston, MA 02215\n...       ...             ...                               ...\n9627   150409  01/10/19 02:38   410 Forest St, Boston, MA 02215\n9660   150440  01/10/19 19:19   82 Johnson St, Boston, MA 02215\n9666   150445  01/11/19 13:56  147 Lincoln St, Boston, MA 02215\n9694   150473  01/10/19 09:09  148 Hickory St, Boston, MA 02215\n9722   150501  01/13/19 16:43    428 Cedar St, Boston, MA 02215\n\n[1048 rows x 3 columns]",
      "text/html": "<div>\n<style scoped>\n    .dataframe tbody tr th:only-of-type {\n        vertical-align: middle;\n    }\n\n    .dataframe tbody tr th {\n        vertical-align: top;\n    }\n\n    .dataframe thead th {\n        text-align: right;\n    }\n</style>\n<table border=\"1\" class=\"dataframe\">\n  <thead>\n    <tr style=\"text-align: right;\">\n      <th></th>\n      <th>Order ID</th>\n      <th>Order Date</th>\n      <th>Purchase Address</th>\n    </tr>\n  </thead>\n  <tbody>\n    <tr>\n      <th>0</th>\n      <td>141234</td>\n      <td>01/22/19 21:25</td>\n      <td>944 Walnut St, Boston, MA 02215</td>\n    </tr>\n    <tr>\n      <th>17</th>\n      <td>141251</td>\n      <td>01/24/19 08:13</td>\n      <td>414 Walnut St, Boston, MA 02215</td>\n    </tr>\n    <tr>\n      <th>29</th>\n      <td>141263</td>\n      <td>01/11/19 23:33</td>\n      <td>640 Spruce St, Boston, MA 02215</td>\n    </tr>\n    <tr>\n      <th>31</th>\n      <td>141265</td>\n      <td>01/01/19 16:52</td>\n      <td>853 Ridge St, Boston, MA 02215</td>\n    </tr>\n    <tr>\n      <th>37</th>\n      <td>141271</td>\n      <td>01/30/19 10:51</td>\n      <td>90 13th St, Boston, MA 02215</td>\n    </tr>\n    <tr>\n      <th>...</th>\n      <td>...</td>\n      <td>...</td>\n      <td>...</td>\n    </tr>\n    <tr>\n      <th>9627</th>\n      <td>150409</td>\n      <td>01/10/19 02:38</td>\n      <td>410 Forest St, Boston, MA 02215</td>\n    </tr>\n    <tr>\n      <th>9660</th>\n      <td>150440</td>\n      <td>01/10/19 19:19</td>\n      <td>82 Johnson St, Boston, MA 02215</td>\n    </tr>\n    <tr>\n      <th>9666</th>\n      <td>150445</td>\n      <td>01/11/19 13:56</td>\n      <td>147 Lincoln St, Boston, MA 02215</td>\n    </tr>\n    <tr>\n      <th>9694</th>\n      <td>150473</td>\n      <td>01/10/19 09:09</td>\n      <td>148 Hickory St, Boston, MA 02215</td>\n    </tr>\n    <tr>\n      <th>9722</th>\n      <td>150501</td>\n      <td>01/13/19 16:43</td>\n      <td>428 Cedar St, Boston, MA 02215</td>\n    </tr>\n  </tbody>\n</table>\n<p>1048 rows × 3 columns</p>\n</div>"
     },
     "execution_count": 14,
     "metadata": {},
     "output_type": "execute_result"
    }
   ],
   "source": [
    "jan_sales.loc[jan_sales['Purchase Address'].str.contains('Boston'), ['Order ID', 'Order Date', 'Purchase Address']]"
   ]
  },
  {
   "cell_type": "markdown",
   "metadata": {
    "pycharm": {
     "name": "#%% md\n"
    }
   },
   "source": [
    "**Example 4**: Select Order ID, Product and Price Each for orders where the ordered quantity is at least 3\n",
    "\n",
    "Note that even though the Quantity Ordered column stores numeric information, its values are encoded as strings: "
   ]
  },
  {
   "cell_type": "code",
   "execution_count": 15,
   "metadata": {
    "pycharm": {
     "name": "#%%\n"
    },
    "ExecuteTime": {
     "end_time": "2023-12-06T09:49:55.104537Z",
     "start_time": "2023-12-06T09:49:54.581631Z"
    }
   },
   "outputs": [
    {
     "data": {
      "text/plain": "str"
     },
     "execution_count": 15,
     "metadata": {},
     "output_type": "execute_result"
    }
   ],
   "source": [
    "type(jan_sales['Quantity Ordered'][0])"
   ]
  },
  {
   "cell_type": "markdown",
   "metadata": {
    "pycharm": {
     "name": "#%% md\n"
    }
   },
   "source": [
    "So, we first need to transform the Quantity Ordered column to numeric type. <br>To that end, we use `pd.to_numeric()` function:"
   ]
  },
  {
   "cell_type": "code",
   "execution_count": 16,
   "metadata": {
    "pycharm": {
     "name": "#%%\n"
    },
    "ExecuteTime": {
     "end_time": "2023-12-06T09:49:55.104664Z",
     "start_time": "2023-12-06T09:49:54.588955Z"
    }
   },
   "outputs": [],
   "source": [
    "jan_sales['Quantity Ordered'] = pd.to_numeric(jan_sales['Quantity Ordered'], errors='coerce')"
   ]
  },
  {
   "cell_type": "markdown",
   "metadata": {
    "pycharm": {
     "name": "#%% md\n"
    }
   },
   "source": [
    "Now, we can do the intended selection:"
   ]
  },
  {
   "cell_type": "code",
   "execution_count": 17,
   "metadata": {
    "pycharm": {
     "name": "#%%\n"
    },
    "ExecuteTime": {
     "end_time": "2023-12-06T09:49:55.110411Z",
     "start_time": "2023-12-06T09:49:54.591356Z"
    }
   },
   "outputs": [
    {
     "data": {
      "text/plain": "     Order ID Price Each                 Product\n12     141246       2.99  AAA Batteries (4-pack)\n52     141285       2.99  AAA Batteries (4-pack)\n58     141290       3.84   AA Batteries (4-pack)\n73     141305       2.99  AAA Batteries (4-pack)\n84     141316       2.99  AAA Batteries (4-pack)\n...       ...        ...                     ...\n9513   150299       3.84   AA Batteries (4-pack)\n9590   150372       2.99  AAA Batteries (4-pack)\n9636   150417      11.99        Wired Headphones\n9659   150439      11.99        Wired Headphones\n9700   150479       3.84   AA Batteries (4-pack)\n\n[216 rows x 3 columns]",
      "text/html": "<div>\n<style scoped>\n    .dataframe tbody tr th:only-of-type {\n        vertical-align: middle;\n    }\n\n    .dataframe tbody tr th {\n        vertical-align: top;\n    }\n\n    .dataframe thead th {\n        text-align: right;\n    }\n</style>\n<table border=\"1\" class=\"dataframe\">\n  <thead>\n    <tr style=\"text-align: right;\">\n      <th></th>\n      <th>Order ID</th>\n      <th>Price Each</th>\n      <th>Product</th>\n    </tr>\n  </thead>\n  <tbody>\n    <tr>\n      <th>12</th>\n      <td>141246</td>\n      <td>2.99</td>\n      <td>AAA Batteries (4-pack)</td>\n    </tr>\n    <tr>\n      <th>52</th>\n      <td>141285</td>\n      <td>2.99</td>\n      <td>AAA Batteries (4-pack)</td>\n    </tr>\n    <tr>\n      <th>58</th>\n      <td>141290</td>\n      <td>3.84</td>\n      <td>AA Batteries (4-pack)</td>\n    </tr>\n    <tr>\n      <th>73</th>\n      <td>141305</td>\n      <td>2.99</td>\n      <td>AAA Batteries (4-pack)</td>\n    </tr>\n    <tr>\n      <th>84</th>\n      <td>141316</td>\n      <td>2.99</td>\n      <td>AAA Batteries (4-pack)</td>\n    </tr>\n    <tr>\n      <th>...</th>\n      <td>...</td>\n      <td>...</td>\n      <td>...</td>\n    </tr>\n    <tr>\n      <th>9513</th>\n      <td>150299</td>\n      <td>3.84</td>\n      <td>AA Batteries (4-pack)</td>\n    </tr>\n    <tr>\n      <th>9590</th>\n      <td>150372</td>\n      <td>2.99</td>\n      <td>AAA Batteries (4-pack)</td>\n    </tr>\n    <tr>\n      <th>9636</th>\n      <td>150417</td>\n      <td>11.99</td>\n      <td>Wired Headphones</td>\n    </tr>\n    <tr>\n      <th>9659</th>\n      <td>150439</td>\n      <td>11.99</td>\n      <td>Wired Headphones</td>\n    </tr>\n    <tr>\n      <th>9700</th>\n      <td>150479</td>\n      <td>3.84</td>\n      <td>AA Batteries (4-pack)</td>\n    </tr>\n  </tbody>\n</table>\n<p>216 rows × 3 columns</p>\n</div>"
     },
     "execution_count": 17,
     "metadata": {},
     "output_type": "execute_result"
    }
   ],
   "source": [
    "jan_sales.loc[jan_sales['Quantity Ordered'] >= 3, ['Order ID', 'Price Each', 'Product']]"
   ]
  },
  {
   "cell_type": "markdown",
   "metadata": {
    "pycharm": {
     "name": "#%% md\n"
    }
   },
   "source": [
    "## Load sales data for all months in 2019 and merge them into one data set"
   ]
  },
  {
   "cell_type": "markdown",
   "metadata": {
    "pycharm": {
     "name": "#%% md\n"
    }
   },
   "source": [
    "We need to load the sales data from all csv files (one for each month) available in the 'sales_data' directory. \n",
    "\n",
    "Let's first see how to take only .csv files from a given directory:"
   ]
  },
  {
   "cell_type": "code",
   "execution_count": 18,
   "metadata": {
    "pycharm": {
     "name": "#%%\n"
    },
    "ExecuteTime": {
     "end_time": "2023-12-06T09:49:55.110605Z",
     "start_time": "2023-12-06T09:49:54.599467Z"
    }
   },
   "outputs": [],
   "source": [
    "def get_csv_files(fpath):\n",
    "    csv_files = []\n",
    "    if not fpath.is_dir():\n",
    "        print(\"Error! Not a directory! Cannot proceed\")\n",
    "        return\n",
    "    for f in fpath.iterdir():\n",
    "        if f.is_dir(): continue\n",
    "        if f.suffix == \".csv\":\n",
    "            csv_files.append(f)\n",
    "    return csv_files"
   ]
  },
  {
   "cell_type": "code",
   "execution_count": 19,
   "outputs": [
    {
     "data": {
      "text/plain": "[PosixPath('/Users/jelena.jovanovic/DataspellProjects/v2023/pandas/data/sales_data/Sales_December_2019.csv'),\n PosixPath('/Users/jelena.jovanovic/DataspellProjects/v2023/pandas/data/sales_data/Sales_April_2019.csv'),\n PosixPath('/Users/jelena.jovanovic/DataspellProjects/v2023/pandas/data/sales_data/Sales_February_2019.csv'),\n PosixPath('/Users/jelena.jovanovic/DataspellProjects/v2023/pandas/data/sales_data/Sales_March_2019.csv'),\n PosixPath('/Users/jelena.jovanovic/DataspellProjects/v2023/pandas/data/sales_data/Sales_August_2019.csv'),\n PosixPath('/Users/jelena.jovanovic/DataspellProjects/v2023/pandas/data/sales_data/Sales_May_2019.csv'),\n PosixPath('/Users/jelena.jovanovic/DataspellProjects/v2023/pandas/data/sales_data/Sales_November_2019.csv'),\n PosixPath('/Users/jelena.jovanovic/DataspellProjects/v2023/pandas/data/sales_data/Sales_October_2019.csv'),\n PosixPath('/Users/jelena.jovanovic/DataspellProjects/v2023/pandas/data/sales_data/Sales_January_2019.csv'),\n PosixPath('/Users/jelena.jovanovic/DataspellProjects/v2023/pandas/data/sales_data/Sales_September_2019.csv'),\n PosixPath('/Users/jelena.jovanovic/DataspellProjects/v2023/pandas/data/sales_data/Sales_July_2019.csv'),\n PosixPath('/Users/jelena.jovanovic/DataspellProjects/v2023/pandas/data/sales_data/Sales_June_2019.csv')]"
     },
     "execution_count": 19,
     "metadata": {},
     "output_type": "execute_result"
    }
   ],
   "source": [
    "get_csv_files(Path.cwd() / DATA_DIR)"
   ],
   "metadata": {
    "collapsed": false,
    "pycharm": {
     "name": "#%%\n"
    },
    "ExecuteTime": {
     "end_time": "2023-12-06T09:49:55.110951Z",
     "start_time": "2023-12-06T09:49:54.602137Z"
    }
   }
  },
  {
   "cell_type": "markdown",
   "metadata": {
    "pycharm": {
     "name": "#%% md\n"
    }
   },
   "source": [
    "We'll now take each csv file in turn, load the data from it and add the loaded data into a common DataFrame that stores sales data for the whole year.\n",
    "\n",
    "To merge two DataFrames, we'll use `pd.concat` function"
   ]
  },
  {
   "cell_type": "code",
   "execution_count": 20,
   "metadata": {
    "pycharm": {
     "name": "#%%\n"
    },
    "ExecuteTime": {
     "end_time": "2023-12-06T09:49:55.133511Z",
     "start_time": "2023-12-06T09:49:54.612232Z"
    }
   },
   "outputs": [],
   "source": [
    "pd.concat?"
   ]
  },
  {
   "cell_type": "code",
   "execution_count": 21,
   "metadata": {
    "pycharm": {
     "name": "#%%\n"
    },
    "ExecuteTime": {
     "end_time": "2023-12-06T09:49:55.153318Z",
     "start_time": "2023-12-06T09:49:54.640013Z"
    }
   },
   "outputs": [
    {
     "data": {
      "text/plain": "  Order ID               Product Quantity Ordered Price Each      Order Date  \\\n0   295665    Macbook Pro Laptop                1       1700  12/30/19 00:01   \n1   295666    LG Washing Machine                1      600.0  12/29/19 07:03   \n2   295667  USB-C Charging Cable                1      11.95  12/12/19 18:21   \n3   295668      27in FHD Monitor                1     149.99  12/22/19 15:13   \n4   295669  USB-C Charging Cable                1      11.95  12/18/19 12:38   \n\n                         Purchase Address  \n0  136 Church St, New York City, NY 10001  \n1     562 2nd St, New York City, NY 10001  \n2    277 Main St, New York City, NY 10001  \n3     410 6th St, San Francisco, CA 94016  \n4           43 Hill St, Atlanta, GA 30301  ",
      "text/html": "<div>\n<style scoped>\n    .dataframe tbody tr th:only-of-type {\n        vertical-align: middle;\n    }\n\n    .dataframe tbody tr th {\n        vertical-align: top;\n    }\n\n    .dataframe thead th {\n        text-align: right;\n    }\n</style>\n<table border=\"1\" class=\"dataframe\">\n  <thead>\n    <tr style=\"text-align: right;\">\n      <th></th>\n      <th>Order ID</th>\n      <th>Product</th>\n      <th>Quantity Ordered</th>\n      <th>Price Each</th>\n      <th>Order Date</th>\n      <th>Purchase Address</th>\n    </tr>\n  </thead>\n  <tbody>\n    <tr>\n      <th>0</th>\n      <td>295665</td>\n      <td>Macbook Pro Laptop</td>\n      <td>1</td>\n      <td>1700</td>\n      <td>12/30/19 00:01</td>\n      <td>136 Church St, New York City, NY 10001</td>\n    </tr>\n    <tr>\n      <th>1</th>\n      <td>295666</td>\n      <td>LG Washing Machine</td>\n      <td>1</td>\n      <td>600.0</td>\n      <td>12/29/19 07:03</td>\n      <td>562 2nd St, New York City, NY 10001</td>\n    </tr>\n    <tr>\n      <th>2</th>\n      <td>295667</td>\n      <td>USB-C Charging Cable</td>\n      <td>1</td>\n      <td>11.95</td>\n      <td>12/12/19 18:21</td>\n      <td>277 Main St, New York City, NY 10001</td>\n    </tr>\n    <tr>\n      <th>3</th>\n      <td>295668</td>\n      <td>27in FHD Monitor</td>\n      <td>1</td>\n      <td>149.99</td>\n      <td>12/22/19 15:13</td>\n      <td>410 6th St, San Francisco, CA 94016</td>\n    </tr>\n    <tr>\n      <th>4</th>\n      <td>295669</td>\n      <td>USB-C Charging Cable</td>\n      <td>1</td>\n      <td>11.95</td>\n      <td>12/18/19 12:38</td>\n      <td>43 Hill St, Atlanta, GA 30301</td>\n    </tr>\n  </tbody>\n</table>\n</div>"
     },
     "execution_count": 21,
     "metadata": {},
     "output_type": "execute_result"
    }
   ],
   "source": [
    "all_sales = pd.DataFrame()\n",
    "\n",
    "for sales_file in get_csv_files(Path.cwd() / DATA_DIR):\n",
    "    sales_data = pd.read_csv(sales_file)\n",
    "    all_sales = pd.concat([all_sales, sales_data])\n",
    "\n",
    "all_sales.head()"
   ]
  },
  {
   "cell_type": "markdown",
   "metadata": {
    "pycharm": {
     "name": "#%% md\n"
    }
   },
   "source": [
    "### Examine the merged data"
   ]
  },
  {
   "cell_type": "code",
   "execution_count": 22,
   "metadata": {
    "pycharm": {
     "name": "#%%\n"
    },
    "ExecuteTime": {
     "end_time": "2023-12-06T09:49:55.153703Z",
     "start_time": "2023-12-06T09:49:54.963038Z"
    }
   },
   "outputs": [
    {
     "data": {
      "text/plain": "(186850, 6)"
     },
     "execution_count": 22,
     "metadata": {},
     "output_type": "execute_result"
    }
   ],
   "source": [
    "all_sales.shape"
   ]
  },
  {
   "cell_type": "code",
   "execution_count": 23,
   "metadata": {
    "pycharm": {
     "name": "#%%\n"
    },
    "ExecuteTime": {
     "end_time": "2023-12-06T09:49:55.154033Z",
     "start_time": "2023-12-06T09:49:54.994505Z"
    }
   },
   "outputs": [
    {
     "name": "stdout",
     "output_type": "stream",
     "text": [
      "<class 'pandas.core.frame.DataFrame'>\n",
      "Index: 186850 entries, 0 to 13621\n",
      "Data columns (total 6 columns):\n",
      " #   Column            Non-Null Count   Dtype \n",
      "---  ------            --------------   ----- \n",
      " 0   Order ID          186305 non-null  object\n",
      " 1   Product           186305 non-null  object\n",
      " 2   Quantity Ordered  186305 non-null  object\n",
      " 3   Price Each        186305 non-null  object\n",
      " 4   Order Date        186305 non-null  object\n",
      " 5   Purchase Address  186305 non-null  object\n",
      "dtypes: object(6)\n",
      "memory usage: 10.0+ MB\n"
     ]
    }
   ],
   "source": [
    "all_sales.info()"
   ]
  },
  {
   "cell_type": "markdown",
   "metadata": {
    "pycharm": {
     "name": "#%% md\n"
    }
   },
   "source": [
    "Note the difference between the number of entries (rows) and the index values. It seems that some of the loaded files have overlaping indexes. To fix this, we need to reset the index of the merged data frame."
   ]
  },
  {
   "cell_type": "code",
   "execution_count": 24,
   "metadata": {
    "pycharm": {
     "name": "#%%\n"
    },
    "ExecuteTime": {
     "end_time": "2023-12-06T09:49:55.154145Z",
     "start_time": "2023-12-06T09:49:54.999516Z"
    }
   },
   "outputs": [],
   "source": [
    "all_sales.reset_index(drop=True, inplace=True)"
   ]
  },
  {
   "cell_type": "code",
   "execution_count": 25,
   "metadata": {
    "pycharm": {
     "name": "#%%\n"
    },
    "ExecuteTime": {
     "end_time": "2023-12-06T09:49:55.154418Z",
     "start_time": "2023-12-06T09:49:55.030162Z"
    }
   },
   "outputs": [
    {
     "name": "stdout",
     "output_type": "stream",
     "text": [
      "<class 'pandas.core.frame.DataFrame'>\n",
      "RangeIndex: 186850 entries, 0 to 186849\n",
      "Data columns (total 6 columns):\n",
      " #   Column            Non-Null Count   Dtype \n",
      "---  ------            --------------   ----- \n",
      " 0   Order ID          186305 non-null  object\n",
      " 1   Product           186305 non-null  object\n",
      " 2   Quantity Ordered  186305 non-null  object\n",
      " 3   Price Each        186305 non-null  object\n",
      " 4   Order Date        186305 non-null  object\n",
      " 5   Purchase Address  186305 non-null  object\n",
      "dtypes: object(6)\n",
      "memory usage: 8.6+ MB\n"
     ]
    }
   ],
   "source": [
    "all_sales.info()"
   ]
  },
  {
   "cell_type": "markdown",
   "metadata": {
    "pycharm": {
     "name": "#%% md\n"
    }
   },
   "source": [
    "Rename the DataFrame, to reduce the typing: "
   ]
  },
  {
   "cell_type": "code",
   "execution_count": 26,
   "metadata": {
    "pycharm": {
     "name": "#%%\n"
    },
    "ExecuteTime": {
     "end_time": "2023-12-06T09:49:55.154522Z",
     "start_time": "2023-12-06T09:49:55.034801Z"
    }
   },
   "outputs": [],
   "source": [
    "sales = all_sales"
   ]
  },
  {
   "cell_type": "markdown",
   "metadata": {
    "pycharm": {
     "name": "#%% md\n"
    }
   },
   "source": [
    "Note that we are just giving a new name (reference) to the same object, that is, we are not creating a new DataFrame object with this statement. <br>\n",
    "We can verify that by comparing the two data frame references:"
   ]
  },
  {
   "cell_type": "code",
   "execution_count": 27,
   "metadata": {
    "pycharm": {
     "name": "#%%\n"
    },
    "ExecuteTime": {
     "end_time": "2023-12-06T09:49:55.154834Z",
     "start_time": "2023-12-06T09:49:55.037458Z"
    }
   },
   "outputs": [
    {
     "data": {
      "text/plain": "True"
     },
     "execution_count": 27,
     "metadata": {},
     "output_type": "execute_result"
    }
   ],
   "source": [
    "sales is all_sales"
   ]
  },
  {
   "cell_type": "markdown",
   "metadata": {
    "pycharm": {
     "name": "#%% md\n"
    }
   },
   "source": [
    "To create a new DataFrame object, we would need to do, for example, the following:"
   ]
  },
  {
   "cell_type": "code",
   "execution_count": 28,
   "metadata": {
    "pycharm": {
     "name": "#%%\n"
    },
    "ExecuteTime": {
     "end_time": "2023-12-06T09:49:55.155077Z",
     "start_time": "2023-12-06T09:49:55.066766Z"
    }
   },
   "outputs": [
    {
     "data": {
      "text/plain": "False"
     },
     "execution_count": 28,
     "metadata": {},
     "output_type": "execute_result"
    }
   ],
   "source": [
    "tmp = all_sales.copy()\n",
    "tmp is all_sales"
   ]
  },
  {
   "cell_type": "code",
   "execution_count": 29,
   "metadata": {
    "pycharm": {
     "name": "#%%\n"
    },
    "ExecuteTime": {
     "end_time": "2023-12-06T09:49:55.155193Z",
     "start_time": "2023-12-06T09:49:55.080467Z"
    }
   },
   "outputs": [],
   "source": [
    "del tmp"
   ]
  },
  {
   "cell_type": "code",
   "execution_count": 30,
   "outputs": [],
   "source": [
    "del all_sales"
   ],
   "metadata": {
    "collapsed": false,
    "ExecuteTime": {
     "end_time": "2023-12-06T09:49:55.155298Z",
     "start_time": "2023-12-06T09:49:55.082922Z"
    }
   }
  },
  {
   "cell_type": "markdown",
   "source": [
    "## Prepare the sales data for analysis "
   ],
   "metadata": {
    "collapsed": false
   }
  },
  {
   "cell_type": "markdown",
   "metadata": {
    "pycharm": {
     "name": "#%% md\n"
    }
   },
   "source": [
    "Let's take another look at the data..."
   ]
  },
  {
   "cell_type": "code",
   "execution_count": 31,
   "metadata": {
    "pycharm": {
     "name": "#%%\n"
    },
    "ExecuteTime": {
     "end_time": "2023-12-06T09:49:55.872568Z",
     "start_time": "2023-12-06T09:49:55.114276Z"
    }
   },
   "outputs": [
    {
     "name": "stdout",
     "output_type": "stream",
     "text": [
      "<class 'pandas.core.frame.DataFrame'>\n",
      "RangeIndex: 186850 entries, 0 to 186849\n",
      "Data columns (total 6 columns):\n",
      " #   Column            Non-Null Count   Dtype \n",
      "---  ------            --------------   ----- \n",
      " 0   Order ID          186305 non-null  object\n",
      " 1   Product           186305 non-null  object\n",
      " 2   Quantity Ordered  186305 non-null  object\n",
      " 3   Price Each        186305 non-null  object\n",
      " 4   Order Date        186305 non-null  object\n",
      " 5   Purchase Address  186305 non-null  object\n",
      "dtypes: object(6)\n",
      "memory usage: 8.6+ MB\n"
     ]
    }
   ],
   "source": [
    "sales.info()"
   ]
  },
  {
   "cell_type": "markdown",
   "metadata": {
    "pycharm": {
     "name": "#%% md\n"
    }
   },
   "source": [
    "Note that all the data are stored as object (string) values. We will need to change that for the Quantity Ordered, Price Each and Order Date columns. But before that, we will handle missing values.\n",
    "\n",
    "### Remove observations with all missing values"
   ]
  },
  {
   "cell_type": "markdown",
   "metadata": {
    "pycharm": {
     "name": "#%% md\n"
    }
   },
   "source": [
    "It seems that entire rows of data are missing, that is, we have observations with all missing values. <br>Let's take a sample to check that:"
   ]
  },
  {
   "cell_type": "code",
   "execution_count": 32,
   "metadata": {
    "pycharm": {
     "name": "#%%\n"
    },
    "ExecuteTime": {
     "end_time": "2023-12-06T09:49:55.873574Z",
     "start_time": "2023-12-06T09:49:55.127762Z"
    }
   },
   "outputs": [
    {
     "data": {
      "text/plain": "       Order ID Product Quantity Ordered Price Each Order Date  \\\n66357       NaN     NaN              NaN        NaN        NaN   \n10489       NaN     NaN              NaN        NaN        NaN   \n48129       NaN     NaN              NaN        NaN        NaN   \n75440       NaN     NaN              NaN        NaN        NaN   \n124107      NaN     NaN              NaN        NaN        NaN   \n124943      NaN     NaN              NaN        NaN        NaN   \n86918       NaN     NaN              NaN        NaN        NaN   \n26550       NaN     NaN              NaN        NaN        NaN   \n75050       NaN     NaN              NaN        NaN        NaN   \n67472       NaN     NaN              NaN        NaN        NaN   \n\n       Purchase Address  \n66357               NaN  \n10489               NaN  \n48129               NaN  \n75440               NaN  \n124107              NaN  \n124943              NaN  \n86918               NaN  \n26550               NaN  \n75050               NaN  \n67472               NaN  ",
      "text/html": "<div>\n<style scoped>\n    .dataframe tbody tr th:only-of-type {\n        vertical-align: middle;\n    }\n\n    .dataframe tbody tr th {\n        vertical-align: top;\n    }\n\n    .dataframe thead th {\n        text-align: right;\n    }\n</style>\n<table border=\"1\" class=\"dataframe\">\n  <thead>\n    <tr style=\"text-align: right;\">\n      <th></th>\n      <th>Order ID</th>\n      <th>Product</th>\n      <th>Quantity Ordered</th>\n      <th>Price Each</th>\n      <th>Order Date</th>\n      <th>Purchase Address</th>\n    </tr>\n  </thead>\n  <tbody>\n    <tr>\n      <th>66357</th>\n      <td>NaN</td>\n      <td>NaN</td>\n      <td>NaN</td>\n      <td>NaN</td>\n      <td>NaN</td>\n      <td>NaN</td>\n    </tr>\n    <tr>\n      <th>10489</th>\n      <td>NaN</td>\n      <td>NaN</td>\n      <td>NaN</td>\n      <td>NaN</td>\n      <td>NaN</td>\n      <td>NaN</td>\n    </tr>\n    <tr>\n      <th>48129</th>\n      <td>NaN</td>\n      <td>NaN</td>\n      <td>NaN</td>\n      <td>NaN</td>\n      <td>NaN</td>\n      <td>NaN</td>\n    </tr>\n    <tr>\n      <th>75440</th>\n      <td>NaN</td>\n      <td>NaN</td>\n      <td>NaN</td>\n      <td>NaN</td>\n      <td>NaN</td>\n      <td>NaN</td>\n    </tr>\n    <tr>\n      <th>124107</th>\n      <td>NaN</td>\n      <td>NaN</td>\n      <td>NaN</td>\n      <td>NaN</td>\n      <td>NaN</td>\n      <td>NaN</td>\n    </tr>\n    <tr>\n      <th>124943</th>\n      <td>NaN</td>\n      <td>NaN</td>\n      <td>NaN</td>\n      <td>NaN</td>\n      <td>NaN</td>\n      <td>NaN</td>\n    </tr>\n    <tr>\n      <th>86918</th>\n      <td>NaN</td>\n      <td>NaN</td>\n      <td>NaN</td>\n      <td>NaN</td>\n      <td>NaN</td>\n      <td>NaN</td>\n    </tr>\n    <tr>\n      <th>26550</th>\n      <td>NaN</td>\n      <td>NaN</td>\n      <td>NaN</td>\n      <td>NaN</td>\n      <td>NaN</td>\n      <td>NaN</td>\n    </tr>\n    <tr>\n      <th>75050</th>\n      <td>NaN</td>\n      <td>NaN</td>\n      <td>NaN</td>\n      <td>NaN</td>\n      <td>NaN</td>\n      <td>NaN</td>\n    </tr>\n    <tr>\n      <th>67472</th>\n      <td>NaN</td>\n      <td>NaN</td>\n      <td>NaN</td>\n      <td>NaN</td>\n      <td>NaN</td>\n      <td>NaN</td>\n    </tr>\n  </tbody>\n</table>\n</div>"
     },
     "execution_count": 32,
     "metadata": {},
     "output_type": "execute_result"
    }
   ],
   "source": [
    "sales.loc[sales.Product.isna(),].sample(10)"
   ]
  },
  {
   "cell_type": "markdown",
   "metadata": {
    "pycharm": {
     "name": "#%% md\n"
    }
   },
   "source": [
    "Remove observations with all missing values"
   ]
  },
  {
   "cell_type": "code",
   "execution_count": 33,
   "metadata": {
    "pycharm": {
     "name": "#%%\n"
    },
    "ExecuteTime": {
     "end_time": "2023-12-06T09:49:56.045425Z",
     "start_time": "2023-12-06T09:49:55.161223Z"
    }
   },
   "outputs": [],
   "source": [
    "sales.dropna(how='all', inplace=True)"
   ]
  },
  {
   "cell_type": "code",
   "execution_count": 34,
   "metadata": {
    "pycharm": {
     "name": "#%%\n"
    },
    "ExecuteTime": {
     "end_time": "2023-12-06T09:49:56.046015Z",
     "start_time": "2023-12-06T09:49:55.204704Z"
    }
   },
   "outputs": [
    {
     "data": {
      "text/plain": "0"
     },
     "execution_count": 34,
     "metadata": {},
     "output_type": "execute_result"
    }
   ],
   "source": [
    "sales.isna().sum().sum()"
   ]
  },
  {
   "cell_type": "markdown",
   "metadata": {
    "pycharm": {
     "name": "#%% md\n"
    }
   },
   "source": [
    "### Convert Quantity Ordered and Price Each to numeric values, and Order Date into datetime type\n",
    "\n",
    "A useful reference for this type of conversion can be found in [this StackOverflow thread](https://stackoverflow.com/questions/15891038/change-column-type-in-pandas)"
   ]
  },
  {
   "cell_type": "markdown",
   "metadata": {
    "pycharm": {
     "name": "#%% md\n"
    }
   },
   "source": [
    "Let's start by taking another look at the columns' data types"
   ]
  },
  {
   "cell_type": "code",
   "execution_count": 35,
   "metadata": {
    "pycharm": {
     "name": "#%%\n"
    },
    "ExecuteTime": {
     "end_time": "2023-12-06T09:49:56.046405Z",
     "start_time": "2023-12-06T09:49:55.211618Z"
    }
   },
   "outputs": [
    {
     "data": {
      "text/plain": "Order ID            object\nProduct             object\nQuantity Ordered    object\nPrice Each          object\nOrder Date          object\nPurchase Address    object\ndtype: object"
     },
     "execution_count": 35,
     "metadata": {},
     "output_type": "execute_result"
    }
   ],
   "source": [
    "sales.dtypes"
   ]
  },
  {
   "cell_type": "markdown",
   "metadata": {
    "pycharm": {
     "name": "#%% md\n"
    }
   },
   "source": [
    "First, we'll try to convert Quantity Ordered to a numeric column"
   ]
  },
  {
   "cell_type": "code",
   "execution_count": 36,
   "metadata": {
    "pycharm": {
     "name": "#%%\n"
    },
    "ExecuteTime": {
     "end_time": "2023-12-06T09:49:56.046757Z",
     "start_time": "2023-12-06T09:49:55.217250Z"
    }
   },
   "outputs": [
    {
     "name": "stdout",
     "output_type": "stream",
     "text": [
      "Unable to parse string \"Quantity Ordered\" at position 254\n"
     ]
    }
   ],
   "source": [
    "try:\n",
    "    sales['Quantity_Ordered'] = pd.to_numeric(sales['Quantity Ordered'], errors='raise')\n",
    "except ValueError as err:\n",
    "    print(err)"
   ]
  },
  {
   "cell_type": "markdown",
   "metadata": {
    "pycharm": {
     "name": "#%% md\n"
    }
   },
   "source": [
    "Take a look at the entry (observation) where the error occurred"
   ]
  },
  {
   "cell_type": "code",
   "execution_count": 37,
   "metadata": {
    "pycharm": {
     "name": "#%%\n"
    },
    "ExecuteTime": {
     "end_time": "2023-12-06T09:49:56.047096Z",
     "start_time": "2023-12-06T09:49:55.223334Z"
    }
   },
   "outputs": [
    {
     "data": {
      "text/plain": "Order ID                    Order ID\nProduct                      Product\nQuantity Ordered    Quantity Ordered\nPrice Each                Price Each\nOrder Date                Order Date\nPurchase Address    Purchase Address\nName: 254, dtype: object"
     },
     "execution_count": 37,
     "metadata": {},
     "output_type": "execute_result"
    }
   ],
   "source": [
    "sales.iloc[254, :]"
   ]
  },
  {
   "cell_type": "markdown",
   "metadata": {
    "pycharm": {
     "name": "#%% md\n"
    }
   },
   "source": [
    "This looks like some erroneous data that we do not need. So, we will do the conversion (to numeric type) and, along the way, replace such erronous data with NaN (that is, mark the data as missing)  "
   ]
  },
  {
   "cell_type": "code",
   "execution_count": 38,
   "metadata": {
    "pycharm": {
     "name": "#%%\n"
    },
    "ExecuteTime": {
     "end_time": "2023-12-06T09:49:56.048700Z",
     "start_time": "2023-12-06T09:49:55.287284Z"
    }
   },
   "outputs": [],
   "source": [
    "sales['Quantity_Ordered'] = pd.to_numeric(sales['Quantity Ordered'], errors='coerce')"
   ]
  },
  {
   "cell_type": "markdown",
   "metadata": {
    "pycharm": {
     "name": "#%% md\n"
    }
   },
   "source": [
    "Get the number and proportion of the introduced missing values in the Quantity Ordered column"
   ]
  },
  {
   "cell_type": "code",
   "execution_count": 39,
   "metadata": {
    "pycharm": {
     "name": "#%%\n"
    },
    "ExecuteTime": {
     "end_time": "2023-12-06T09:49:56.049050Z",
     "start_time": "2023-12-06T09:49:55.291294Z"
    }
   },
   "outputs": [
    {
     "data": {
      "text/plain": "355"
     },
     "execution_count": 39,
     "metadata": {},
     "output_type": "execute_result"
    }
   ],
   "source": [
    "sales.Quantity_Ordered.isna().sum()"
   ]
  },
  {
   "cell_type": "code",
   "execution_count": 40,
   "metadata": {
    "pycharm": {
     "name": "#%%\n"
    },
    "ExecuteTime": {
     "end_time": "2023-12-06T09:49:56.060187Z",
     "start_time": "2023-12-06T09:49:55.295610Z"
    }
   },
   "outputs": [
    {
     "data": {
      "text/plain": "0.0019054775770913288"
     },
     "execution_count": 40,
     "metadata": {},
     "output_type": "execute_result"
    }
   ],
   "source": [
    "sales.Quantity_Ordered.isna().mean()"
   ]
  },
  {
   "cell_type": "markdown",
   "source": [
    "Compute the basic statistics for the newly created numeric column"
   ],
   "metadata": {
    "collapsed": false
   }
  },
  {
   "cell_type": "code",
   "execution_count": 41,
   "outputs": [
    {
     "data": {
      "text/plain": "count    185950.000000\nmean          1.124383\nstd           0.442793\nmin           1.000000\n25%           1.000000\n50%           1.000000\n75%           1.000000\nmax           9.000000\nName: Quantity_Ordered, dtype: float64"
     },
     "execution_count": 41,
     "metadata": {},
     "output_type": "execute_result"
    }
   ],
   "source": [
    "sales.Quantity_Ordered.describe()"
   ],
   "metadata": {
    "collapsed": false,
    "ExecuteTime": {
     "end_time": "2023-12-06T09:49:56.060574Z",
     "start_time": "2023-12-06T09:49:55.306590Z"
    }
   }
  },
  {
   "cell_type": "code",
   "execution_count": 42,
   "outputs": [
    {
     "data": {
      "text/plain": "Quantity_Ordered\n1.0    168552\n2.0     13324\n3.0      2920\n4.0       806\n5.0       236\n6.0        80\n7.0        24\n8.0         5\n9.0         3\nName: count, dtype: int64"
     },
     "execution_count": 42,
     "metadata": {},
     "output_type": "execute_result"
    }
   ],
   "source": [
    "sales.Quantity_Ordered.value_counts()"
   ],
   "metadata": {
    "collapsed": false,
    "ExecuteTime": {
     "end_time": "2023-12-06T09:49:56.060931Z",
     "start_time": "2023-12-06T09:49:55.323084Z"
    }
   }
  },
  {
   "cell_type": "markdown",
   "metadata": {
    "pycharm": {
     "name": "#%% md\n"
    }
   },
   "source": [
    "Do the same for the Price Each column"
   ]
  },
  {
   "cell_type": "code",
   "execution_count": 43,
   "metadata": {
    "pycharm": {
     "name": "#%%\n"
    },
    "ExecuteTime": {
     "end_time": "2023-12-06T09:49:56.061084Z",
     "start_time": "2023-12-06T09:49:55.386123Z"
    }
   },
   "outputs": [],
   "source": [
    "sales['Price_Each'] = pd.to_numeric(sales['Price Each'], errors='coerce')"
   ]
  },
  {
   "cell_type": "code",
   "execution_count": 44,
   "metadata": {
    "pycharm": {
     "name": "#%%\n"
    },
    "ExecuteTime": {
     "end_time": "2023-12-06T09:49:56.061442Z",
     "start_time": "2023-12-06T09:49:55.390648Z"
    }
   },
   "outputs": [
    {
     "data": {
      "text/plain": "count    185950.000000\nmean        184.399735\nstd         332.731330\nmin           2.990000\n25%          11.950000\n50%          14.950000\n75%         150.000000\nmax        1700.000000\nName: Price_Each, dtype: float64"
     },
     "execution_count": 44,
     "metadata": {},
     "output_type": "execute_result"
    }
   ],
   "source": [
    "sales.Price_Each.describe()"
   ]
  },
  {
   "cell_type": "code",
   "execution_count": 45,
   "metadata": {
    "pycharm": {
     "name": "#%%\n"
    },
    "ExecuteTime": {
     "end_time": "2023-12-06T09:49:56.061741Z",
     "start_time": "2023-12-06T09:49:55.411861Z"
    }
   },
   "outputs": [
    {
     "data": {
      "text/plain": "355"
     },
     "execution_count": 45,
     "metadata": {},
     "output_type": "execute_result"
    }
   ],
   "source": [
    "sales.Price_Each.isna().sum()"
   ]
  },
  {
   "cell_type": "markdown",
   "metadata": {
    "pycharm": {
     "name": "#%% md\n"
    }
   },
   "source": [
    "Drop rows where ordered quantity or unit price are unavailable (NaN)"
   ]
  },
  {
   "cell_type": "code",
   "execution_count": 46,
   "metadata": {
    "pycharm": {
     "name": "#%%\n"
    },
    "ExecuteTime": {
     "end_time": "2023-12-06T09:49:56.061873Z",
     "start_time": "2023-12-06T09:49:55.417560Z"
    }
   },
   "outputs": [],
   "source": [
    "rows_to_drop = sales.loc[sales.Quantity_Ordered.isna() | sales.Price_Each.isna(),].index"
   ]
  },
  {
   "cell_type": "code",
   "execution_count": 47,
   "metadata": {
    "pycharm": {
     "name": "#%%\n"
    },
    "ExecuteTime": {
     "end_time": "2023-12-06T09:49:56.062036Z",
     "start_time": "2023-12-06T09:49:55.423190Z"
    }
   },
   "outputs": [],
   "source": [
    "sales.drop(rows_to_drop, inplace=True)"
   ]
  },
  {
   "cell_type": "markdown",
   "metadata": {
    "pycharm": {
     "name": "#%% md\n"
    }
   },
   "source": [
    "Check the size of the dataset after the removal of rows with missing values"
   ]
  },
  {
   "cell_type": "code",
   "execution_count": 48,
   "metadata": {
    "pycharm": {
     "name": "#%%\n"
    },
    "ExecuteTime": {
     "end_time": "2023-12-06T09:49:56.062340Z",
     "start_time": "2023-12-06T09:49:55.451357Z"
    }
   },
   "outputs": [
    {
     "data": {
      "text/plain": "(185950, 8)"
     },
     "execution_count": 48,
     "metadata": {},
     "output_type": "execute_result"
    }
   ],
   "source": [
    "sales.shape"
   ]
  },
  {
   "cell_type": "markdown",
   "metadata": {
    "pycharm": {
     "name": "#%% md\n"
    }
   },
   "source": [
    "Finally, transform the Order Date to datetime type"
   ]
  },
  {
   "cell_type": "code",
   "execution_count": 49,
   "metadata": {
    "pycharm": {
     "name": "#%%\n"
    },
    "ExecuteTime": {
     "end_time": "2023-12-06T09:49:56.502036Z",
     "start_time": "2023-12-06T09:49:55.458198Z"
    }
   },
   "outputs": [],
   "source": [
    "sales['Order_Date'] =  pd.to_datetime(sales['Order Date'], format=\"%m/%d/%y %H:%M\", errors='coerce')"
   ]
  },
  {
   "cell_type": "code",
   "execution_count": 50,
   "outputs": [
    {
     "data": {
      "text/plain": "0"
     },
     "execution_count": 50,
     "metadata": {},
     "output_type": "execute_result"
    }
   ],
   "source": [
    "sales.Order_Date.isna().sum()"
   ],
   "metadata": {
    "collapsed": false,
    "ExecuteTime": {
     "end_time": "2023-12-06T09:49:56.528633Z",
     "start_time": "2023-12-06T09:49:55.927209Z"
    }
   }
  },
  {
   "cell_type": "code",
   "execution_count": 51,
   "outputs": [
    {
     "data": {
      "text/plain": "                Order_Date      Order Date\n131256 2019-10-01 20:52:00  10/01/19 20:52\n17487  2019-12-18 17:31:00  12/18/19 17:31\n138993 2019-01-31 23:10:00  01/31/19 23:10\n125863 2019-10-04 14:07:00  10/04/19 14:07\n151817 2019-09-03 10:52:00  09/03/19 10:52",
      "text/html": "<div>\n<style scoped>\n    .dataframe tbody tr th:only-of-type {\n        vertical-align: middle;\n    }\n\n    .dataframe tbody tr th {\n        vertical-align: top;\n    }\n\n    .dataframe thead th {\n        text-align: right;\n    }\n</style>\n<table border=\"1\" class=\"dataframe\">\n  <thead>\n    <tr style=\"text-align: right;\">\n      <th></th>\n      <th>Order_Date</th>\n      <th>Order Date</th>\n    </tr>\n  </thead>\n  <tbody>\n    <tr>\n      <th>131256</th>\n      <td>2019-10-01 20:52:00</td>\n      <td>10/01/19 20:52</td>\n    </tr>\n    <tr>\n      <th>17487</th>\n      <td>2019-12-18 17:31:00</td>\n      <td>12/18/19 17:31</td>\n    </tr>\n    <tr>\n      <th>138993</th>\n      <td>2019-01-31 23:10:00</td>\n      <td>01/31/19 23:10</td>\n    </tr>\n    <tr>\n      <th>125863</th>\n      <td>2019-10-04 14:07:00</td>\n      <td>10/04/19 14:07</td>\n    </tr>\n    <tr>\n      <th>151817</th>\n      <td>2019-09-03 10:52:00</td>\n      <td>09/03/19 10:52</td>\n    </tr>\n  </tbody>\n</table>\n</div>"
     },
     "execution_count": 51,
     "metadata": {},
     "output_type": "execute_result"
    }
   ],
   "source": [
    "sales[['Order_Date', 'Order Date']].sample(5)"
   ],
   "metadata": {
    "collapsed": false,
    "ExecuteTime": {
     "end_time": "2023-12-06T09:49:56.529542Z",
     "start_time": "2023-12-06T09:49:55.931398Z"
    }
   }
  },
  {
   "cell_type": "markdown",
   "metadata": {
    "pycharm": {
     "name": "#%% md\n"
    }
   },
   "source": [
    "It seems that this transformation went well. \n",
    "\n",
    "Let's check the data types after the transformations done above"
   ]
  },
  {
   "cell_type": "code",
   "execution_count": 52,
   "metadata": {
    "pycharm": {
     "name": "#%%\n"
    },
    "ExecuteTime": {
     "end_time": "2023-12-06T09:49:56.529954Z",
     "start_time": "2023-12-06T09:49:55.944721Z"
    }
   },
   "outputs": [
    {
     "data": {
      "text/plain": "Order ID                    object\nProduct                     object\nQuantity Ordered            object\nPrice Each                  object\nOrder Date                  object\nPurchase Address            object\nQuantity_Ordered           float64\nPrice_Each                 float64\nOrder_Date          datetime64[ns]\ndtype: object"
     },
     "execution_count": 52,
     "metadata": {},
     "output_type": "execute_result"
    }
   ],
   "source": [
    "sales.dtypes"
   ]
  },
  {
   "cell_type": "markdown",
   "source": [
    "Remove columns that are no longer needed"
   ],
   "metadata": {
    "collapsed": false
   }
  },
  {
   "cell_type": "code",
   "execution_count": 53,
   "outputs": [
    {
     "data": {
      "text/plain": "['Order ID',\n 'Product',\n 'Purchase Address',\n 'Quantity_Ordered',\n 'Price_Each',\n 'Order_Date']"
     },
     "execution_count": 53,
     "metadata": {},
     "output_type": "execute_result"
    }
   ],
   "source": [
    "sales.drop(columns=['Quantity Ordered', 'Price Each', 'Order Date'], inplace=True)\n",
    "sales.columns.to_list()"
   ],
   "metadata": {
    "collapsed": false,
    "ExecuteTime": {
     "end_time": "2023-12-06T09:49:56.530292Z",
     "start_time": "2023-12-06T09:49:55.948728Z"
    }
   }
  },
  {
   "cell_type": "markdown",
   "metadata": {
    "pycharm": {
     "name": "#%% md\n"
    }
   },
   "source": [
    "### Add Purchase City column\n",
    "\n",
    "Let's see how we can create a new column out of an existing one.\n",
    "\n",
    "Since we may be interested in comparing sales across cities, we will add a column with the name of the city where the order was made. The city name should be followed by the state label, given in brackets (e.g. 'Atlanta (GA)'), to disambigute cities with common names.   "
   ]
  },
  {
   "cell_type": "markdown",
   "metadata": {
    "pycharm": {
     "name": "#%% md\n"
    }
   },
   "source": [
    "Take a sample of values of the Purchase Address column, to examine how addresses are formatted"
   ]
  },
  {
   "cell_type": "code",
   "execution_count": 54,
   "metadata": {
    "pycharm": {
     "name": "#%%\n"
    },
    "ExecuteTime": {
     "end_time": "2023-12-06T09:49:56.530800Z",
     "start_time": "2023-12-06T09:49:55.960192Z"
    }
   },
   "outputs": [
    {
     "data": {
      "text/plain": "8210          453 8th St, San Francisco, CA 94016\n29097      678 Cherry St, San Francisco, CA 94016\n161045        927 7th St, San Francisco, CA 94016\n17219     414 Jackson St, San Francisco, CA 94016\n56952        439 Park St, San Francisco, CA 94016\n23592       974 Johnson St, Los Angeles, CA 90001\n181588          910 Madison St, Atlanta, GA 30301\n62388              857 Pine St, Atlanta, GA 30301\n173338          763 2nd St, Los Angeles, CA 90001\n52034          64 8th St, San Francisco, CA 94016\nName: Purchase Address, dtype: object"
     },
     "execution_count": 54,
     "metadata": {},
     "output_type": "execute_result"
    }
   ],
   "source": [
    "sales['Purchase Address'].sample(10)"
   ]
  },
  {
   "cell_type": "markdown",
   "metadata": {
    "pycharm": {
     "name": "#%% md\n"
    }
   },
   "source": [
    "We will start by creating a function that can extract the city (and state label) from the Purchase Address column. "
   ]
  },
  {
   "cell_type": "code",
   "execution_count": 55,
   "metadata": {
    "pycharm": {
     "name": "#%%\n"
    },
    "ExecuteTime": {
     "end_time": "2023-12-06T09:49:56.531018Z",
     "start_time": "2023-12-06T09:49:55.970187Z"
    }
   },
   "outputs": [],
   "source": [
    "def get_city(address):\n",
    "    street, city, state = address.split(',')\n",
    "    st_label, st_zip = state.lstrip().split()\n",
    "    return f\"{city.lstrip()} ({st_label})\""
   ]
  },
  {
   "cell_type": "markdown",
   "metadata": {
    "pycharm": {
     "name": "#%% md\n"
    }
   },
   "source": [
    "Next, we will *apply* the `get_city` function to each value of the Purchase Address series. First, on a sample of addresses:"
   ]
  },
  {
   "cell_type": "code",
   "execution_count": 56,
   "metadata": {
    "pycharm": {
     "name": "#%%\n"
    },
    "ExecuteTime": {
     "end_time": "2023-12-06T09:49:56.531397Z",
     "start_time": "2023-12-06T09:49:55.979714Z"
    }
   },
   "outputs": [
    {
     "data": {
      "text/plain": "11473     New York City (NY)\n182305           Austin (TX)\n178980    San Francisco (CA)\n115741           Boston (MA)\n145111    San Francisco (CA)\n111251    New York City (NY)\n107721    San Francisco (CA)\n79477           Atlanta (GA)\n29400          Portland (ME)\n89116            Boston (MA)\nName: Purchase Address, dtype: object"
     },
     "execution_count": 56,
     "metadata": {},
     "output_type": "execute_result"
    }
   ],
   "source": [
    "sales['Purchase Address'].sample(10).apply(get_city)"
   ]
  },
  {
   "cell_type": "markdown",
   "metadata": {
    "pycharm": {
     "name": "#%% md\n"
    }
   },
   "source": [
    "Then, on all `Purchase Address` values, to create the new column `Purchase City`"
   ]
  },
  {
   "cell_type": "code",
   "execution_count": 57,
   "metadata": {
    "pycharm": {
     "name": "#%%\n"
    },
    "ExecuteTime": {
     "end_time": "2023-12-06T09:49:56.848118Z",
     "start_time": "2023-12-06T09:49:55.990052Z"
    }
   },
   "outputs": [],
   "source": [
    "sales['Purchase_City'] = sales['Purchase Address'].apply(get_city)"
   ]
  },
  {
   "cell_type": "code",
   "execution_count": 58,
   "metadata": {
    "pycharm": {
     "name": "#%%\n"
    },
    "ExecuteTime": {
     "end_time": "2023-12-06T09:49:56.923339Z",
     "start_time": "2023-12-06T09:49:56.102459Z"
    }
   },
   "outputs": [
    {
     "data": {
      "text/plain": "                               Purchase Address       Purchase_City\n77307             106 Main St, Boston, MA 02215         Boston (MA)\n105410    242 Jackson St, Los Angeles, CA 90001    Los Angeles (CA)\n76384         970 Lakeview St, Austin, TX 73301         Austin (TX)\n155850         619 Spruce St, Atlanta, GA 30301        Atlanta (GA)\n179292            245 6th St, Atlanta, GA 30301        Atlanta (GA)\n2298      768 Maple St, New York City, NY 10001  New York City (NY)\n57774         875 Chestnut St, Austin, TX 73301         Austin (TX)\n81188   865 Dogwood St, San Francisco, CA 94016  San Francisco (CA)\n143197           242 14th St, Atlanta, GA 30301        Atlanta (GA)\n16010            858 11th St, Atlanta, GA 30301        Atlanta (GA)",
      "text/html": "<div>\n<style scoped>\n    .dataframe tbody tr th:only-of-type {\n        vertical-align: middle;\n    }\n\n    .dataframe tbody tr th {\n        vertical-align: top;\n    }\n\n    .dataframe thead th {\n        text-align: right;\n    }\n</style>\n<table border=\"1\" class=\"dataframe\">\n  <thead>\n    <tr style=\"text-align: right;\">\n      <th></th>\n      <th>Purchase Address</th>\n      <th>Purchase_City</th>\n    </tr>\n  </thead>\n  <tbody>\n    <tr>\n      <th>77307</th>\n      <td>106 Main St, Boston, MA 02215</td>\n      <td>Boston (MA)</td>\n    </tr>\n    <tr>\n      <th>105410</th>\n      <td>242 Jackson St, Los Angeles, CA 90001</td>\n      <td>Los Angeles (CA)</td>\n    </tr>\n    <tr>\n      <th>76384</th>\n      <td>970 Lakeview St, Austin, TX 73301</td>\n      <td>Austin (TX)</td>\n    </tr>\n    <tr>\n      <th>155850</th>\n      <td>619 Spruce St, Atlanta, GA 30301</td>\n      <td>Atlanta (GA)</td>\n    </tr>\n    <tr>\n      <th>179292</th>\n      <td>245 6th St, Atlanta, GA 30301</td>\n      <td>Atlanta (GA)</td>\n    </tr>\n    <tr>\n      <th>2298</th>\n      <td>768 Maple St, New York City, NY 10001</td>\n      <td>New York City (NY)</td>\n    </tr>\n    <tr>\n      <th>57774</th>\n      <td>875 Chestnut St, Austin, TX 73301</td>\n      <td>Austin (TX)</td>\n    </tr>\n    <tr>\n      <th>81188</th>\n      <td>865 Dogwood St, San Francisco, CA 94016</td>\n      <td>San Francisco (CA)</td>\n    </tr>\n    <tr>\n      <th>143197</th>\n      <td>242 14th St, Atlanta, GA 30301</td>\n      <td>Atlanta (GA)</td>\n    </tr>\n    <tr>\n      <th>16010</th>\n      <td>858 11th St, Atlanta, GA 30301</td>\n      <td>Atlanta (GA)</td>\n    </tr>\n  </tbody>\n</table>\n</div>"
     },
     "execution_count": 58,
     "metadata": {},
     "output_type": "execute_result"
    }
   ],
   "source": [
    "sales[['Purchase Address', 'Purchase_City']].sample(10)"
   ]
  },
  {
   "cell_type": "markdown",
   "source": [
    "Save the transformed dataset to a file so that we do not have to go through the data cleaning and transformation step again"
   ],
   "metadata": {
    "collapsed": false
   }
  },
  {
   "cell_type": "code",
   "execution_count": 59,
   "outputs": [],
   "source": [
    "sales.to_csv(Path.cwd() / DATA_DIR / 'all_sales_2019.csv', index=False)"
   ],
   "metadata": {
    "collapsed": false,
    "ExecuteTime": {
     "end_time": "2023-12-06T09:49:57.381257Z",
     "start_time": "2023-12-06T09:49:56.117462Z"
    }
   }
  },
  {
   "cell_type": "markdown",
   "metadata": {
    "pycharm": {
     "name": "#%% md\n"
    }
   },
   "source": [
    "## Exploratory data analysis\n",
    "\n",
    "Let's now try to answer some sales-related questions by exploring the 2019 sales data"
   ]
  },
  {
   "cell_type": "markdown",
   "metadata": {
    "pycharm": {
     "name": "#%% md\n"
    }
   },
   "source": [
    "### Task 1. What was the best month for sales? How much was earned that month?"
   ]
  },
  {
   "cell_type": "markdown",
   "metadata": {
    "pycharm": {
     "name": "#%% md\n"
    }
   },
   "source": [
    "To answer this question, we need to:\n",
    "- compute total revenue per order\n",
    "- extract month from the Order Date, so that we can group orders on the montly basis\n",
    "- compute total revenue per month"
   ]
  },
  {
   "cell_type": "markdown",
   "metadata": {
    "pycharm": {
     "name": "#%% md\n"
    }
   },
   "source": [
    "**Step 1**: Compute total revenue per order"
   ]
  },
  {
   "cell_type": "code",
   "execution_count": 59,
   "metadata": {
    "pycharm": {
     "name": "#%%\n"
    },
    "ExecuteTime": {
     "end_time": "2023-12-06T09:49:57.381606Z",
     "start_time": "2023-12-06T09:49:56.975617Z"
    }
   },
   "outputs": [],
   "source": []
  },
  {
   "cell_type": "markdown",
   "metadata": {
    "pycharm": {
     "name": "#%% md\n"
    }
   },
   "source": [
    "**Step 2**: Extract month from the Order Date"
   ]
  },
  {
   "cell_type": "markdown",
   "metadata": {
    "pycharm": {
     "name": "#%% md\n"
    }
   },
   "source": [
    "Note that Order Date is a datetime Series. We can use `dt` to get access to each value in the Series as a datetime object. <br>Having access to a particular order date as a datetime object, we can take any element of the order date and time through appropriate fields (year, month, day, etc.)"
   ]
  },
  {
   "cell_type": "code",
   "execution_count": 59,
   "metadata": {
    "pycharm": {
     "name": "#%%\n"
    },
    "ExecuteTime": {
     "end_time": "2023-12-06T09:49:57.381814Z",
     "start_time": "2023-12-06T09:49:56.978220Z"
    }
   },
   "outputs": [],
   "source": []
  },
  {
   "cell_type": "code",
   "execution_count": 59,
   "metadata": {
    "pycharm": {
     "name": "#%%\n"
    },
    "ExecuteTime": {
     "end_time": "2023-12-06T09:49:57.381944Z",
     "start_time": "2023-12-06T09:49:56.981546Z"
    }
   },
   "outputs": [],
   "source": []
  },
  {
   "cell_type": "markdown",
   "metadata": {
    "pycharm": {
     "name": "#%% md\n"
    }
   },
   "source": [
    "**Step 3**: Compute total revenue per month"
   ]
  },
  {
   "cell_type": "code",
   "execution_count": 59,
   "metadata": {
    "pycharm": {
     "name": "#%%\n"
    },
    "ExecuteTime": {
     "end_time": "2023-12-06T09:49:57.382056Z",
     "start_time": "2023-12-06T09:49:56.984411Z"
    }
   },
   "outputs": [],
   "source": []
  },
  {
   "cell_type": "markdown",
   "metadata": {
    "pycharm": {
     "name": "#%% md\n"
    }
   },
   "source": [
    "Sort the results in the decreasing order of monthly total revenue"
   ]
  },
  {
   "cell_type": "code",
   "execution_count": 59,
   "metadata": {
    "pycharm": {
     "name": "#%%\n"
    },
    "ExecuteTime": {
     "end_time": "2023-12-06T09:49:57.382161Z",
     "start_time": "2023-12-06T09:49:56.986371Z"
    }
   },
   "outputs": [],
   "source": []
  },
  {
   "cell_type": "markdown",
   "metadata": {
    "pycharm": {
     "name": "#%% md\n"
    }
   },
   "source": [
    "We can see that the last month, December, had the highest revenue and that it was ~4.6M USD.\n",
    "\n",
    "We can also examine monthly revenues on a (bar) chart, as visual representation of data often facilitates the comprehension of trends that may be present in the data.\n",
    "\n",
    "For plotting, we will use the Matplotlib library. Its documentation is available [here](https://matplotlib.org/3.5.3/api/_as_gen/matplotlib.pyplot.html), while [this example](https://matplotlib.org/stable/gallery/lines_bars_and_markers/bar_colors.html#sphx-glr-gallery-lines-bars-and-markers-bar-colors-py) can be helpful as the starting point for this task.\n",
    "\n",
    "Note: [This GitHub repo](https://github.com/matplotlib/cheatsheets) offers very well done cheat sheets and tips for Mathplotlib"
   ]
  },
  {
   "cell_type": "code",
   "execution_count": 59,
   "metadata": {
    "pycharm": {
     "name": "#%%\n"
    },
    "ExecuteTime": {
     "end_time": "2023-12-06T09:49:57.382257Z",
     "start_time": "2023-12-06T09:49:56.989269Z"
    }
   },
   "outputs": [],
   "source": []
  },
  {
   "cell_type": "code",
   "execution_count": 59,
   "outputs": [],
   "source": [],
   "metadata": {
    "collapsed": false,
    "ExecuteTime": {
     "end_time": "2023-12-06T09:49:57.382350Z",
     "start_time": "2023-12-06T09:49:56.991747Z"
    }
   }
  },
  {
   "cell_type": "markdown",
   "metadata": {
    "pycharm": {
     "name": "#%% md\n"
    }
   },
   "source": [
    "### Task 2. What city ordered the largest quantity of products?"
   ]
  },
  {
   "cell_type": "markdown",
   "metadata": {
    "pycharm": {
     "name": "#%% md\n"
    }
   },
   "source": [
    "This time we will group orders based on the city. <br>\n",
    "Recall that we have created Purchase City column out of the Purchase Address column"
   ]
  },
  {
   "cell_type": "code",
   "execution_count": 59,
   "metadata": {
    "pycharm": {
     "name": "#%%\n"
    },
    "ExecuteTime": {
     "end_time": "2023-12-06T09:49:57.382440Z",
     "start_time": "2023-12-06T09:49:56.994684Z"
    }
   },
   "outputs": [],
   "source": []
  },
  {
   "cell_type": "markdown",
   "metadata": {
    "pycharm": {
     "name": "#%% md\n"
    }
   },
   "source": [
    "Sort the results in the decreasing order of the per-city ordered quantity"
   ]
  },
  {
   "cell_type": "code",
   "execution_count": 59,
   "metadata": {
    "pycharm": {
     "name": "#%%\n"
    },
    "ExecuteTime": {
     "end_time": "2023-12-06T09:49:57.382532Z",
     "start_time": "2023-12-06T09:49:56.998178Z"
    }
   },
   "outputs": [],
   "source": []
  },
  {
   "cell_type": "markdown",
   "metadata": {
    "pycharm": {
     "name": "#%% md\n"
    }
   },
   "source": [
    "Finally, plot the per-city ordered quantites on a bar chart"
   ]
  },
  {
   "cell_type": "code",
   "execution_count": 59,
   "metadata": {
    "pycharm": {
     "name": "#%%\n"
    },
    "ExecuteTime": {
     "end_time": "2023-12-06T09:49:57.382619Z",
     "start_time": "2023-12-06T09:49:57.000396Z"
    }
   },
   "outputs": [],
   "source": []
  },
  {
   "cell_type": "markdown",
   "metadata": {
    "pycharm": {
     "name": "#%% md\n"
    }
   },
   "source": [
    "### Task 3. When, during a day, customers are likely to make most valuable orders?"
   ]
  },
  {
   "cell_type": "markdown",
   "metadata": {
    "pycharm": {
     "name": "#%% md\n"
    }
   },
   "source": [
    "To answer this one, we can extract the hour from the Order Date and examine the average total order price across the 24 hours of a day"
   ]
  },
  {
   "cell_type": "markdown",
   "metadata": {
    "pycharm": {
     "name": "#%% md\n"
    }
   },
   "source": [
    "**Step 1**: Create the 'Order Hour' column"
   ]
  },
  {
   "cell_type": "code",
   "execution_count": 59,
   "metadata": {
    "pycharm": {
     "name": "#%%\n"
    },
    "ExecuteTime": {
     "end_time": "2023-12-06T09:49:57.382718Z",
     "start_time": "2023-12-06T09:49:57.003176Z"
    }
   },
   "outputs": [],
   "source": []
  },
  {
   "cell_type": "code",
   "execution_count": 59,
   "metadata": {
    "pycharm": {
     "name": "#%%\n"
    },
    "ExecuteTime": {
     "end_time": "2023-12-06T09:49:57.382807Z",
     "start_time": "2023-12-06T09:49:57.005744Z"
    }
   },
   "outputs": [],
   "source": []
  },
  {
   "cell_type": "markdown",
   "metadata": {
    "pycharm": {
     "name": "#%% md\n"
    }
   },
   "source": [
    "**Step 2**: Group orders per Order Hour and compute mean Total price for each group"
   ]
  },
  {
   "cell_type": "code",
   "execution_count": 59,
   "metadata": {
    "pycharm": {
     "name": "#%%\n"
    },
    "ExecuteTime": {
     "end_time": "2023-12-06T09:49:57.382898Z",
     "start_time": "2023-12-06T09:49:57.009135Z"
    }
   },
   "outputs": [],
   "source": []
  },
  {
   "cell_type": "markdown",
   "metadata": {
    "pycharm": {
     "name": "#%% md\n"
    }
   },
   "source": [
    "Sort the results in the descending order of the mean total price"
   ]
  },
  {
   "cell_type": "code",
   "execution_count": 59,
   "metadata": {
    "pycharm": {
     "name": "#%%\n"
    },
    "ExecuteTime": {
     "end_time": "2023-12-06T09:49:57.382983Z",
     "start_time": "2023-12-06T09:49:57.012241Z"
    }
   },
   "outputs": [],
   "source": []
  },
  {
   "cell_type": "markdown",
   "metadata": {
    "pycharm": {
     "name": "#%% md\n"
    }
   },
   "source": [
    "Examine the results on a line chart"
   ]
  },
  {
   "cell_type": "code",
   "execution_count": 59,
   "metadata": {
    "pycharm": {
     "name": "#%%\n"
    },
    "ExecuteTime": {
     "end_time": "2023-12-06T09:49:57.383071Z",
     "start_time": "2023-12-06T09:49:57.015890Z"
    }
   },
   "outputs": [],
   "source": []
  },
  {
   "cell_type": "markdown",
   "metadata": {
    "pycharm": {
     "name": "#%% md\n"
    }
   },
   "source": [
    "### Task 4. What product sold the most? What product contributed the most to the total revenue?"
   ]
  },
  {
   "cell_type": "markdown",
   "metadata": {
    "pycharm": {
     "name": "#%% md\n"
    }
   },
   "source": [
    "Let's first see how many different products there are and how frequently they were ordered"
   ]
  },
  {
   "cell_type": "code",
   "execution_count": 59,
   "metadata": {
    "pycharm": {
     "name": "#%%\n"
    },
    "ExecuteTime": {
     "end_time": "2023-12-06T09:49:57.383263Z",
     "start_time": "2023-12-06T09:49:57.019284Z"
    }
   },
   "outputs": [],
   "source": []
  },
  {
   "cell_type": "code",
   "execution_count": 59,
   "metadata": {
    "pycharm": {
     "name": "#%%\n"
    },
    "ExecuteTime": {
     "end_time": "2023-12-06T09:49:57.383403Z",
     "start_time": "2023-12-06T09:49:57.022091Z"
    }
   },
   "outputs": [],
   "source": []
  },
  {
   "cell_type": "markdown",
   "metadata": {
    "pycharm": {
     "name": "#%% md\n"
    }
   },
   "source": [
    "While the above series gives us the number of orders that a product appeared in, it does not tell us about the quantities that were ordered.\n",
    "\n",
    "For each product, we need to take the overall quantity ordered and total price across all orders related to that product"
   ]
  },
  {
   "cell_type": "code",
   "execution_count": 59,
   "metadata": {
    "pycharm": {
     "name": "#%%\n"
    },
    "ExecuteTime": {
     "end_time": "2023-12-06T09:49:57.383493Z",
     "start_time": "2023-12-06T09:49:57.024619Z"
    }
   },
   "outputs": [],
   "source": []
  },
  {
   "cell_type": "code",
   "execution_count": 59,
   "metadata": {
    "pycharm": {
     "name": "#%%\n"
    },
    "ExecuteTime": {
     "end_time": "2023-12-06T09:49:57.383610Z",
     "start_time": "2023-12-06T09:49:57.027701Z"
    }
   },
   "outputs": [],
   "source": []
  },
  {
   "cell_type": "markdown",
   "metadata": {
    "pycharm": {
     "name": "#%% md\n"
    }
   },
   "source": [
    "Get the products (top 5) that sold the most:"
   ]
  },
  {
   "cell_type": "code",
   "execution_count": 59,
   "metadata": {
    "pycharm": {
     "name": "#%%\n"
    },
    "ExecuteTime": {
     "end_time": "2023-12-06T09:49:57.383876Z",
     "start_time": "2023-12-06T09:49:57.030796Z"
    }
   },
   "outputs": [],
   "source": []
  },
  {
   "cell_type": "markdown",
   "metadata": {
    "pycharm": {
     "name": "#%% md\n"
    }
   },
   "source": [
    "Get the products (top 5) with the highest total revenue"
   ]
  },
  {
   "cell_type": "code",
   "execution_count": 59,
   "metadata": {
    "pycharm": {
     "name": "#%%\n"
    },
    "ExecuteTime": {
     "end_time": "2023-12-06T09:49:57.383997Z",
     "start_time": "2023-12-06T09:49:57.034371Z"
    }
   },
   "outputs": [],
   "source": []
  },
  {
   "cell_type": "markdown",
   "metadata": {
    "pycharm": {
     "name": "#%% md\n"
    }
   },
   "source": [
    "We can also plot these data. <br>\n",
    "In particular, we will create two horizontal bar plots, one next to the other, the first one showing total revenue per product, the second depicting the quantity of the product sold. We will sort the plots based on the total revenue, so that the products with the highest revenue are displayed towards the top of the plots.\n",
    "\n",
    "For the guidance on how to create a horizontal bar chart, see [this example](https://matplotlib.org/stable/gallery/lines_bars_and_markers/barh.html) from the Mathplotlib documentation."
   ]
  },
  {
   "cell_type": "code",
   "execution_count": 59,
   "metadata": {
    "pycharm": {
     "name": "#%%\n"
    },
    "ExecuteTime": {
     "end_time": "2023-12-06T09:49:57.384097Z",
     "start_time": "2023-12-06T09:49:57.037147Z"
    }
   },
   "outputs": [],
   "source": []
  },
  {
   "cell_type": "markdown",
   "metadata": {
    "pycharm": {
     "name": "#%% md\n"
    }
   },
   "source": [
    "We can also plot this data on a single line plot, using different scales for values shown on the y-axis. \n",
    "\n",
    "[This example](https://matplotlib.org/stable/gallery/subplots_axes_and_figures/two_scales.html#sphx-glr-gallery-subplots-axes-and-figures-two-scales-py) from the MatPlotLib documentation shows how have a plot with two different scales."
   ]
  },
  {
   "cell_type": "code",
   "execution_count": 59,
   "metadata": {
    "pycharm": {
     "name": "#%%\n"
    },
    "ExecuteTime": {
     "end_time": "2023-12-06T09:49:57.384370Z",
     "start_time": "2023-12-06T09:49:57.043877Z"
    }
   },
   "outputs": [],
   "source": []
  },
  {
   "cell_type": "markdown",
   "metadata": {
    "pycharm": {
     "name": "#%% md\n"
    }
   },
   "source": [
    "### Task 5. Examine total revenue per product across cities"
   ]
  },
  {
   "cell_type": "markdown",
   "metadata": {
    "pycharm": {
     "name": "#%% md\n"
    }
   },
   "source": [
    "Note that we can group the data based on more than one attribute (column). <br> In this case, we will do the grouping based on the product and the city and compute total revenue for each product in each city:"
   ]
  },
  {
   "cell_type": "code",
   "execution_count": 59,
   "metadata": {
    "pycharm": {
     "name": "#%%\n"
    },
    "ExecuteTime": {
     "end_time": "2023-12-06T09:49:57.384503Z",
     "start_time": "2023-12-06T09:49:57.046807Z"
    }
   },
   "outputs": [],
   "source": []
  },
  {
   "cell_type": "markdown",
   "metadata": {
    "pycharm": {
     "name": "#%% md\n"
    }
   },
   "source": [
    "Note that we are getting a Series with two indexes - Product and Purchase City:"
   ]
  },
  {
   "cell_type": "code",
   "execution_count": 59,
   "metadata": {
    "pycharm": {
     "name": "#%%\n"
    },
    "ExecuteTime": {
     "end_time": "2023-12-06T09:49:57.384668Z",
     "start_time": "2023-12-06T09:49:57.049024Z"
    }
   },
   "outputs": [],
   "source": []
  },
  {
   "cell_type": "markdown",
   "metadata": {
    "pycharm": {
     "name": "#%% md\n"
    }
   },
   "source": [
    "We can transform this into a DataFrame by calling the `unstack()` method"
   ]
  },
  {
   "cell_type": "code",
   "execution_count": 59,
   "metadata": {
    "pycharm": {
     "name": "#%%\n"
    },
    "ExecuteTime": {
     "end_time": "2023-12-06T09:49:57.384771Z",
     "start_time": "2023-12-06T09:49:57.052249Z"
    }
   },
   "outputs": [],
   "source": []
  },
  {
   "cell_type": "code",
   "execution_count": 59,
   "metadata": {
    "pycharm": {
     "name": "#%%\n"
    },
    "ExecuteTime": {
     "end_time": "2023-12-06T09:49:57.384886Z",
     "start_time": "2023-12-06T09:49:57.054981Z"
    }
   },
   "outputs": [],
   "source": []
  },
  {
   "cell_type": "code",
   "execution_count": 59,
   "outputs": [],
   "source": [],
   "metadata": {
    "collapsed": false,
    "ExecuteTime": {
     "end_time": "2023-12-06T09:49:57.384974Z",
     "start_time": "2023-12-06T09:49:57.058631Z"
    }
   }
  },
  {
   "cell_type": "markdown",
   "metadata": {
    "pycharm": {
     "name": "#%% md\n"
    }
   },
   "source": [
    "We can now plot this DataFrame using a heathmap. \n",
    "A handy guide for creating a heatmap is given in [this article](https://matplotlib.org/stable/gallery/images_contours_and_fields/image_annotated_heatmap.html#sphx-glr-gallery-images-contours-and-fields-image-annotated-heatmap-py) from the Matplotlib documentation.\n",
    "\n",
    "See [this page](https://matplotlib.org/stable/users/explain/colors/colormaps.html) of Matplotlib documentation for an overview of the predefined color maps."
   ]
  },
  {
   "cell_type": "code",
   "execution_count": 59,
   "metadata": {
    "pycharm": {
     "name": "#%%\n"
    },
    "ExecuteTime": {
     "end_time": "2023-12-06T09:49:57.385073Z",
     "start_time": "2023-12-06T09:49:57.061616Z"
    }
   },
   "outputs": [],
   "source": []
  },
  {
   "cell_type": "markdown",
   "metadata": {
    "pycharm": {
     "name": "#%% md\n"
    }
   },
   "source": [
    "### Tasks to practice\n",
    "\n",
    "1. Examine the distribution of total product purchases, in terms of total revenue, across the states. <br><br>\n",
    "2. On which day, during a week, customers are likely to make most valuable orders?"
   ]
  }
 ],
 "metadata": {
  "kernelspec": {
   "display_name": "Python 3 (ipykernel)",
   "language": "python",
   "name": "python3"
  },
  "language_info": {
   "codemirror_mode": {
    "name": "ipython",
    "version": 3
   },
   "file_extension": ".py",
   "mimetype": "text/x-python",
   "name": "python",
   "nbconvert_exporter": "python",
   "pygments_lexer": "ipython3",
   "version": "3.10.0"
  }
 },
 "nbformat": 4,
 "nbformat_minor": 4
}
