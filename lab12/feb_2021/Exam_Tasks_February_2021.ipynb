{
 "cells": [
  {
   "cell_type": "markdown",
   "metadata": {
    "id": "LtIqLNHaBikk",
    "pycharm": {
     "name": "#%% md\n"
    }
   },
   "source": [
    "# Programiranje 3: Februar 2021 \n",
    "\n"
   ]
  },
  {
   "cell_type": "markdown",
   "metadata": {
    "id": "2ZJxxrhgBiko",
    "pycharm": {
     "name": "#%% md\n"
    }
   },
   "source": [
    "### Uputstva\n",
    "\n",
    "- Ispit traje 90 min\n",
    "- Ovu svesku je potrebno preimenovati tako da naziv bude u formatu: Prezime_Ime_Indeks (izbegavati naša slova u imenu i prezimenu)\n",
    "- Dozvoljeno je korišćenje samo onih materijala koji se nalaze u folderu P3 Feb 2021 na desktop-u \n",
    "- Nije dozvoljeno korišćenje Interneta, niti korišćenje pomoćnih materijala u elektronskom, papirnom, ili bilo kom drugom obliku\n",
    "- Strogo je zabranjeno iznošenje, fotografisanje ili umnožavanje zadatka na bilo koji način; povreda ovog pravila se strogo kažnjava\n",
    "- Preporučuje se često snimanje (Save) onoga što je urađeno, kako u slučaju problema sa računarom, nestankom struje i sl. ne bi bilo izgubljeno ono što je uradjeno\n",
    "- Nakon završenog ispita treba ostaviti otvoreno razvojno okruženje (dakle, ne zatvarati ga)\n",
    "- Na pitanja tipa \"Kada će, otprilike, biti objavljeni rezultati?\" u ovom trenutku nije moguće odgovoriti – čim pregledanje bude završeno, rezultati će biti objavljeni na sajtu predmeta i tom prilikom će biti poznat i termin za uvid u radove."
   ]
  },
  {
   "cell_type": "markdown",
   "metadata": {
    "id": "_sw9AU8qBikp",
    "pycharm": {
     "name": "#%% md\n"
    }
   },
   "source": [
    "### O ispitnom zadatku\n",
    "\n",
    "U nastavku su date instrukcije za učitavanje skupa podataka koji je predmet analize u okviru ovog ispitnog zadatka. <br> Za svaki zahtev ili grupu zahteva zadatka je naveden broj poena koji nosi.<br> Prva grupa zahteva se odnosi na pripremu podataka za analizu i u tom smislu predstavlja preduslov za kasnije zahteve zadatka. "
   ]
  },
  {
   "cell_type": "code",
   "execution_count": null,
   "metadata": {
    "id": "QIMg8qZhBikp",
    "pycharm": {
     "name": "#%%\n"
    }
   },
   "outputs": [],
   "source": []
  },
  {
   "cell_type": "markdown",
   "metadata": {
    "id": "nNyEnYXjBikp",
    "pycharm": {
     "name": "#%% md\n"
    }
   },
   "source": [
    "### 1. Učitavanje i priprema podataka (ukupno 20p)"
   ]
  },
  {
   "cell_type": "markdown",
   "metadata": {
    "id": "BLRULfP0Bikq",
    "pycharm": {
     "name": "#%% md\n"
    }
   },
   "source": [
    "#### 1.1 Učitatiti podatke iz fajla online_retail.csv i kreirati DataFrame koji će biti korišćen u daljem radu\n",
    "\n",
    "Napomena: ukoliko prilikom učitavanja podataka dobijete *utf-8 decode error*, postavite, u funkciji za učitavanje podataka, vrednost argumenta ``encoding`` na \"latin1\"."
   ]
  },
  {
   "cell_type": "code",
   "execution_count": null,
   "metadata": {
    "id": "TWTGftdqBikq",
    "pycharm": {
     "name": "#%%\n"
    }
   },
   "outputs": [],
   "source": []
  },
  {
   "cell_type": "markdown",
   "metadata": {
    "id": "vboEFFZEBikr",
    "pycharm": {
     "name": "#%% md\n"
    }
   },
   "source": [
    "#### 1.2 Odrediti broj redova i kolona u kreiranom DataFrame-u, kao i tipove podataka atributa (kolona)   "
   ]
  },
  {
   "cell_type": "code",
   "execution_count": null,
   "metadata": {
    "id": "gk0Dwgp5IAEo",
    "pycharm": {
     "name": "#%%\n"
    }
   },
   "outputs": [],
   "source": []
  },
  {
   "cell_type": "markdown",
   "metadata": {
    "id": "lsYo5yIcBiks",
    "pycharm": {
     "name": "#%% md\n"
    }
   },
   "source": [
    "#### 1.3 Očistiti podatke tako da ostanu samo opservacije (redovi) sa smislenim vrednostima atributa (kolona)\n",
    "\n",
    "Primer besmislene vrednosti je negativna vrednost za cenu ili naručenu količinu."
   ]
  },
  {
   "cell_type": "code",
   "execution_count": null,
   "metadata": {
    "id": "1j7nkrHSIBCV",
    "pycharm": {
     "name": "#%%\n"
    }
   },
   "outputs": [],
   "source": []
  },
  {
   "cell_type": "markdown",
   "metadata": {
    "id": "sxPuTt7FBikt",
    "pycharm": {
     "name": "#%% md\n"
    }
   },
   "source": [
    "#### 1.4 Proveriti prisustvo nedostajućih vrednosti i obrisati sve redove koji imaju makar jednu nedostajuću vrednost"
   ]
  },
  {
   "cell_type": "code",
   "execution_count": null,
   "metadata": {
    "id": "4egNz0O_IB04",
    "pycharm": {
     "name": "#%%\n"
    }
   },
   "outputs": [],
   "source": []
  },
  {
   "cell_type": "markdown",
   "metadata": {
    "id": "kMTdH6F8Biku",
    "pycharm": {
     "name": "#%% md\n"
    }
   },
   "source": [
    "#### 1.5 Transformisati kolone CustomerID i InvoiceDate\n",
    "\n",
    "Kolona ``CustomerID`` bi trebalo da bude tipa ``int``. <br>\n",
    "Kolona ``InvoiceDate`` bi trebalo da bude tipa ``datetime``."
   ]
  },
  {
   "cell_type": "code",
   "execution_count": null,
   "metadata": {
    "id": "UKOsvHK2IDOw",
    "pycharm": {
     "name": "#%%\n"
    }
   },
   "outputs": [],
   "source": []
  },
  {
   "cell_type": "markdown",
   "metadata": {
    "id": "O5957hu0Biku",
    "pycharm": {
     "name": "#%% md\n"
    }
   },
   "source": [
    "### 2. Odrediti 10 zemalja, izuzimajući Veliku Britaniju, koje su imale najveći ukupan broj poručenih artikala. <br>Prikazati na grafikonu (bar chart) ukupan broj poručenih artikala za ovih 10 zemalja. (15p)"
   ]
  },
  {
   "cell_type": "code",
   "execution_count": null,
   "metadata": {
    "id": "4E4MH5fuIJgd",
    "pycharm": {
     "name": "#%%\n"
    }
   },
   "outputs": [],
   "source": []
  },
  {
   "cell_type": "markdown",
   "metadata": {
    "id": "t7EeBDjeBikv",
    "pycharm": {
     "name": "#%% md\n"
    }
   },
   "source": [
    "### 3. Među kupcima iz prethodno određenih top 10 zemalja, odrediti top 15 kupaca (CustomerID) po ukupnoj vrednosti porudžbine (10p)\n",
    "\n",
    "Pri računanju ukupne vrednosti porudžbine, uzmite u obzir naručenu količinu (``Quantity``) i jediničnu cenu (``UnitPrice``) za svaki naručeni artikal. "
   ]
  },
  {
   "cell_type": "code",
   "execution_count": null,
   "metadata": {
    "id": "rJ-UGxIWBikv",
    "pycharm": {
     "name": "#%%\n"
    }
   },
   "outputs": [],
   "source": []
  },
  {
   "cell_type": "markdown",
   "metadata": {
    "id": "0HfyFNvvBikw",
    "pycharm": {
     "name": "#%% md\n"
    }
   },
   "source": [
    "### 4. Izračunati ukupan broj porudžbina u toku svakog meseca i to prikazati grafički (line chart) (15p)"
   ]
  },
  {
   "cell_type": "code",
   "execution_count": null,
   "metadata": {
    "id": "XOiTUmlkBikx",
    "pycharm": {
     "name": "#%%\n"
    }
   },
   "outputs": [],
   "source": []
  },
  {
   "cell_type": "markdown",
   "metadata": {
    "id": "BsX6h8ndBikx",
    "pycharm": {
     "name": "#%% md\n"
    }
   },
   "source": [
    "### 5. Odrediti 10 najtraženijih artikala (u smislu naručene količine - Quantity) od strane kupaca iz Velike Britanije. Prikazati opise i naručenu količinu tih artikala (5p)"
   ]
  },
  {
   "cell_type": "code",
   "execution_count": null,
   "metadata": {
    "id": "nxxQGj3zBiky",
    "pycharm": {
     "name": "#%%\n"
    }
   },
   "outputs": [],
   "source": []
  },
  {
   "cell_type": "markdown",
   "metadata": {
    "id": "CAujryY0Biky",
    "pycharm": {
     "name": "#%% md\n"
    }
   },
   "source": [
    "### 6. Odrediti broj porudzbina koje sadrže bar jedan \"lunch bag\" (5p)"
   ]
  },
  {
   "cell_type": "code",
   "execution_count": null,
   "metadata": {
    "id": "E_r87ublBiky",
    "pycharm": {
     "name": "#%%\n"
    }
   },
   "outputs": [],
   "source": []
  }
 ],
 "metadata": {
  "colab": {
   "collapsed_sections": [],
   "name": "Exam_Tasks_February_2021.ipynb",
   "provenance": []
  },
  "kernelspec": {
   "display_name": "Python 3 (ipykernel)",
   "language": "python",
   "name": "python3"
  },
  "language_info": {
   "codemirror_mode": {
    "name": "ipython",
    "version": 3
   },
   "file_extension": ".py",
   "mimetype": "text/x-python",
   "name": "python",
   "nbconvert_exporter": "python",
   "pygments_lexer": "ipython3",
   "version": "3.9.5"
  }
 },
 "nbformat": 4,
 "nbformat_minor": 1
}